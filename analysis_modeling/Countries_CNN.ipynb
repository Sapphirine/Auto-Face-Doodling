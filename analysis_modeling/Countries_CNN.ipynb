{
 "cells": [
  {
   "cell_type": "markdown",
   "metadata": {
    "colab_type": "text",
    "id": "jN7PTwQ2nu8J"
   },
   "source": [
    "# Install Packages"
   ]
  },
  {
   "cell_type": "markdown",
   "metadata": {
    "colab": {
     "base_uri": "https://localhost:8080/",
     "height": 615
    },
    "colab_type": "code",
    "id": "1BWo8_GAzH53",
    "outputId": "4173f381-0ecd-43af-c230-3c6aa98b573c"
   },
   "source": [
    "!pip install --upgrade tensorflow==2.0.0"
   ]
  },
  {
   "cell_type": "markdown",
   "metadata": {
    "colab": {
     "base_uri": "https://localhost:8080/",
     "height": 105
    },
    "colab_type": "code",
    "id": "c7WYKdJ-gPz0",
    "outputId": "ca471efb-65b3-44e3-9e1d-3caea097afee"
   },
   "source": [
    "!pip install cairocffi"
   ]
  },
  {
   "cell_type": "code",
   "execution_count": 1,
   "metadata": {
    "colab": {},
    "colab_type": "code",
    "id": "rTFORyXTo9-7"
   },
   "outputs": [],
   "source": [
    "import os\n",
    "import glob\n",
    "import numpy as np\n",
    "from tensorflow.keras import layers\n",
    "from tensorflow import keras \n",
    "import tensorflow as tf\n",
    "import re\n",
    "import matplotlib.pyplot as plt\n",
    "from random import randint\n",
    "import pandas as pd\n"
   ]
  },
  {
   "cell_type": "markdown",
   "metadata": {
    "colab_type": "text",
    "id": "meowHYI9p_RL"
   },
   "source": [
    "# Functions"
   ]
  },
  {
   "cell_type": "code",
   "execution_count": 2,
   "metadata": {
    "colab": {},
    "colab_type": "code",
    "id": "75XWDUTZqBB2"
   },
   "outputs": [],
   "source": [
    "def train_remake(array):\n",
    "    res = []\n",
    "    for row in array:\n",
    "        res += [row]\n",
    "    return res"
   ]
  },
  {
   "cell_type": "markdown",
   "metadata": {
    "colab_type": "text",
    "id": "Kq_5UFk5nT5r"
   },
   "source": [
    "# Import Data"
   ]
  },
  {
   "cell_type": "code",
   "execution_count": 3,
   "metadata": {
    "colab": {
     "base_uri": "https://localhost:8080/",
     "height": 34
    },
    "colab_type": "code",
    "id": "OR8AAmcCB-RC",
    "outputId": "109af036-085d-4b47-aed3-46ddd4104e60"
   },
   "outputs": [
    {
     "name": "stdout",
     "output_type": "stream",
     "text": [
      "mkdir: data: File exists\r\n"
     ]
    }
   ],
   "source": [
    "!mkdir data"
   ]
  },
  {
   "cell_type": "code",
   "execution_count": 4,
   "metadata": {
    "colab": {},
    "colab_type": "code",
    "id": "ffJdI0V9_2t4"
   },
   "outputs": [],
   "source": [
    "classes = ['face','eye','mouth','nose','ear']\n",
    "class_mapping = {'face': 0, 'ear': 1,'eye': 2,'mouth': 3,'nose': 4}\n",
    "#countries = ['AU','RU','BR','KR','SA']#'TW','HK','JP'\n",
    "#countries = ['AU','KR','SA']\n",
    "#countries_mapping = {'AU': 0,'RU': 1,'BR': 2,'KR': 3,'SA': 4}\n",
    "#countries_mapping = {'AU': 0,'KR': 1,'SA': 2}\n",
    "# classes = ['eye','mouth','nose','ear']\n",
    "# classes = ['eye','mouth']"
   ]
  },
  {
   "cell_type": "code",
   "execution_count": 5,
   "metadata": {
    "colab": {
     "base_uri": "https://localhost:8080/",
     "height": 119
    },
    "colab_type": "code",
    "id": "18S0xrTPCCzh",
    "outputId": "2d3f5d4e-13fb-40e8-cf6d-0d6c3a1cc389"
   },
   "outputs": [
    {
     "name": "stdout",
     "output_type": "stream",
     "text": [
      "https://storage.googleapis.com/quickdraw_dataset/full/binary/face.bin\n",
      "https://storage.googleapis.com/quickdraw_dataset/full/binary/eye.bin\n",
      "https://storage.googleapis.com/quickdraw_dataset/full/binary/mouth.bin\n",
      "https://storage.googleapis.com/quickdraw_dataset/full/binary/nose.bin\n",
      "https://storage.googleapis.com/quickdraw_dataset/full/binary/ear.bin\n",
      "https://storage.googleapis.com/quickdraw_dataset/full/binary/circle.bin\n"
     ]
    }
   ],
   "source": [
    "import urllib.request\n",
    "def download():\n",
    "  \n",
    "  base = 'https://storage.googleapis.com/quickdraw_dataset/full/binary/'\n",
    "  # base = 'https://storage.googleapis.com/quickdraw_dataset/full/numpy_bitmap/'\n",
    "  for c in classes:\n",
    "    path = base+c+'.bin'\n",
    "    # path = base+c+'.npy'\n",
    "    print(path)\n",
    "    urllib.request.urlretrieve(path, 'data/'+c+'.bin')\n",
    "    # urllib.request.urlretrieve(path, 'data/'+c+'.npy')\n",
    "download()"
   ]
  },
  {
   "cell_type": "code",
   "execution_count": 5,
   "metadata": {
    "colab": {},
    "colab_type": "code",
    "id": "T6lh1XG64b8i"
   },
   "outputs": [],
   "source": [
    "all_files = glob.glob(os.path.join('data', '*.bin'))\n",
    "image_size = 125"
   ]
  },
  {
   "cell_type": "markdown",
   "metadata": {
    "colab_type": "text",
    "id": "syuEC9eRdM0T"
   },
   "source": [
    "## import binary data"
   ]
  },
  {
   "cell_type": "code",
   "execution_count": 6,
   "metadata": {
    "colab": {},
    "colab_type": "code",
    "id": "NFq2mU-OgLEb"
   },
   "outputs": [],
   "source": [
    "import numpy as np\n",
    "import cairocffi as cairo\n",
    "\n",
    "def vector_to_raster(vector_images, side=28, line_diameter=16, padding=16, bg_color=(0,0,0), fg_color=(1,1,1)):\n",
    "    \"\"\"\n",
    "    padding and line_diameter are relative to the original 256x256 image.\n",
    "    \"\"\"\n",
    "    \n",
    "    original_side = 256.\n",
    "    \n",
    "    surface = cairo.ImageSurface(cairo.FORMAT_ARGB32, side, side)\n",
    "    ctx = cairo.Context(surface)\n",
    "    ctx.set_antialias(cairo.ANTIALIAS_BEST)\n",
    "    ctx.set_line_cap(cairo.LINE_CAP_ROUND)\n",
    "    ctx.set_line_join(cairo.LINE_JOIN_ROUND)\n",
    "    ctx.set_line_width(line_diameter)\n",
    "\n",
    "    # scale to match the new size\n",
    "    # add padding at the edges for the line_diameter\n",
    "    # and add additional padding to account for antialiasing\n",
    "    total_padding = padding * 2. + line_diameter\n",
    "    new_scale = float(side) / float(original_side + total_padding)\n",
    "    ctx.scale(new_scale, new_scale)\n",
    "    ctx.translate(total_padding / 2., total_padding / 2.)\n",
    "\n",
    "    raster_images = []\n",
    "    for vector_image in vector_images:\n",
    "        # clear background\n",
    "        ctx.set_source_rgb(*bg_color)\n",
    "        ctx.paint()\n",
    "        bbox = np.hstack(vector_image).max(axis=1)#1\n",
    "        offset = ((original_side, original_side) - bbox) / 2.\n",
    "        offset = offset.reshape(-1,1)\n",
    "        centered = [stroke + offset for stroke in vector_image]\n",
    "\n",
    "        # draw strokes, this is the most cpu-intensive part\n",
    "        ctx.set_source_rgb(*fg_color)        \n",
    "        for xv, yv in centered:\n",
    "            ctx.move_to(xv[0], yv[0])\n",
    "            for x, y in zip(xv, yv):\n",
    "                ctx.line_to(x, y)\n",
    "            ctx.stroke()\n",
    "\n",
    "        data = surface.get_data()\n",
    "        raster_image = np.copy(np.asarray(data)[::4])\n",
    "        raster_images.append(raster_image)\n",
    "    \n",
    "    return raster_images"
   ]
  },
  {
   "cell_type": "code",
   "execution_count": 7,
   "metadata": {
    "colab": {},
    "colab_type": "code",
    "id": "JqIZi9aqDZh5"
   },
   "outputs": [],
   "source": [
    "import struct\n",
    "from struct import unpack\n",
    "\n",
    "\n",
    "def unpack_drawing(file_handle):\n",
    "    key_id, = unpack('Q', file_handle.read(8))\n",
    "    # word, = unpack('s', file_handle.read(2))\n",
    "    countrycode, = unpack('2s', file_handle.read(2))\n",
    "    recognized, = unpack('b', file_handle.read(1))\n",
    "    timestamp, = unpack('I', file_handle.read(4))\n",
    "    n_strokes, = unpack('H', file_handle.read(2))\n",
    "    image = []\n",
    "    # temp = []\n",
    "    for i in range(n_strokes):\n",
    "        n_points, = unpack('H', file_handle.read(2))\n",
    "        fmt = str(n_points) + 'B'\n",
    "        x = list(unpack(fmt, file_handle.read(n_points)))\n",
    "        y = list(unpack(fmt, file_handle.read(n_points)))\n",
    "        # temp += [[x,y]]\n",
    "        image.append((x, y))\n",
    "    #     print(n_strokes)\n",
    "    # temp = vector_to_raster(n_strokes)\n",
    "    \n",
    "    # image.append(temp)\n",
    "        \n",
    "\n",
    "    return {\n",
    "        # 'word': word,\n",
    "        'key_id': key_id,\n",
    "        'countrycode': countrycode,\n",
    "        'recognized': recognized,\n",
    "        # 'timestamp': timestamp,\n",
    "        'image': image\n",
    "    }\n",
    "\n",
    "\n",
    "def unpack_drawings(filename):\n",
    "    with open(filename, 'rb') as f:\n",
    "        while True:\n",
    "            try:\n",
    "                yield unpack_drawing(f)\n",
    "            except struct.error:\n",
    "                break\n",
    "\n"
   ]
  },
  {
   "cell_type": "code",
   "execution_count": 8,
   "metadata": {
    "colab": {},
    "colab_type": "code",
    "id": "VOkk9GEWN-AS"
   },
   "outputs": [],
   "source": [
    "countrycode = []\n",
    "recognized = []\n",
    "word = []\n",
    "image = []\n",
    "# image = np.empty([0,28*28])\n",
    "for i in all_files:\n",
    "    for drawing in unpack_drawings(i):\n",
    "        if (drawing['recognized'] == 1)  :\n",
    "            word += [re.findall(r'[a-z]+',i)[1]]\n",
    "            countrycode += re.findall(r'[A-Z][A-Z]',str(drawing['countrycode']))\n",
    "            image += vector_to_raster([drawing['image']],side = image_size )\n",
    "            #recognized += [drawing['recognized']]\n",
    "        else :\n",
    "            continue\n",
    "      \n",
    "      # word += [re.findall(r'[a-z]+',i)[1]]\n",
    "      # countrycode += re.findall(r'[A-Z][A-Z]',str(drawing['countrycode']))\n",
    "      # recognized += [drawing['recognized']]\n",
    "      # # image += vector_to_raster([drawing['image']])\n",
    "      # # image = np.concatenate((image,vector_to_raster([drawing['image']])),axis=0)\n",
    "\n",
    "     \n"
   ]
  },
  {
   "cell_type": "code",
   "execution_count": 9,
   "metadata": {
    "colab": {
     "base_uri": "https://localhost:8080/",
     "height": 285
    },
    "colab_type": "code",
    "id": "Msik-nTZbEeY",
    "outputId": "a0715a1d-c407-484a-c568-608105789775"
   },
   "outputs": [
    {
     "data": {
      "text/plain": [
       "<matplotlib.image.AxesImage at 0x7f9311c87fd0>"
      ]
     },
     "execution_count": 9,
     "metadata": {},
     "output_type": "execute_result"
    },
    {
     "data": {
      "image/png": "[encoded data removed]",
      "text/plain": [
       "<Figure size 432x288 with 1 Axes>"
      ]
     },
     "metadata": {
      "needs_background": "light"
     },
     "output_type": "display_data"
    }
   ],
   "source": [
    "%matplotlib inline\n",
    "\n",
    "idx = randint(0, len(image))\n",
    "plt.imshow(np.array(image[idx]).reshape(image_size,image_size), cmap='gist_earth') \n",
    "    # print(class_names[int(y[idx].item())])"
   ]
  },
  {
   "cell_type": "code",
   "execution_count": 10,
   "metadata": {},
   "outputs": [
    {
     "data": {
      "text/plain": [
       "'\\nfor c in cls:\\n    for t in countries:\\n        x = np.array(image[0]).reshape(image_size,image_size)\\n        y = np.zeros(x.shape)\\n        count = 0\\n        count_total = 0\\n        for i in range(len(image)):\\n            if word[i] == c and countrycode[i] == t: #count < 1410 and \\n                y += np.array(image[i]).reshape(image_size,image_size)\\n                count+=1\\n        y1 = y / count\\n        ct.append(count)\\n        tmp.append(y1) \\n'"
      ]
     },
     "execution_count": 10,
     "metadata": {},
     "output_type": "execute_result"
    }
   ],
   "source": [
    "tmp = []\n",
    "ct = []\n",
    "#countries = ['RU','AU','KR','AU','GB','BR','SE','FI','CZ']\n",
    "#countries = ['US','GB','CA','DE','RU','AU','BR','SE','FI','CZ','IT','KR','SA','PL','FR']\n",
    "countries = ['RU','AU','BR','SE','FI','CZ','IT','KR','SA','PL','FR']\n",
    "countries_mapping = {'RU':0,'AU':1,'BR':2,'SE':3,'FI':4,'CZ':5,'IT':6,'KR':7,'SA':8,'PL':9,'FR':10}\n",
    "\n",
    "'''\n",
    "for c in cls:\n",
    "    for t in countries:\n",
    "        x = np.array(image[0]).reshape(image_size,image_size)\n",
    "        y = np.zeros(x.shape)\n",
    "        count = 0\n",
    "        count_total = 0\n",
    "        for i in range(len(image)):\n",
    "            if word[i] == c and countrycode[i] == t: #count < 1410 and \n",
    "                y += np.array(image[i]).reshape(image_size,image_size)\n",
    "                count+=1\n",
    "        y1 = y / count\n",
    "        ct.append(count)\n",
    "        tmp.append(y1) \n",
    "'''"
   ]
  },
  {
   "cell_type": "code",
   "execution_count": 11,
   "metadata": {},
   "outputs": [],
   "source": [
    "#countries = ['RU','AU','BR','SE','FI','CZ','IT','KR','SA']\n",
    "countries = ['AU','BR','KR','SA']\n",
    "#countries_mapping = {'RU':0,'AU':1,'BR':2,'SE':3,'FI':4,'CZ':5,'IT':6,'KR':7,'SA':8,'PL':9,'FR':10}\n",
    "countries_mapping = {'AU':0,'BR':1,'KR':2, 'SA':3}"
   ]
  },
  {
   "cell_type": "code",
   "execution_count": 12,
   "metadata": {
    "colab": {},
    "colab_type": "code",
    "id": "o2M63oOlcTyy"
   },
   "outputs": [],
   "source": [
    "raw_data = pd.DataFrame()\n",
    "raw_data['word'] = word\n",
    "\n",
    "raw_data['word'] = [class_mapping[x] for x in raw_data['word']]\n",
    "raw_data['countrycode'] = countrycode\n",
    "#raw_data['recognized'] = recognized\n",
    "raw_data['image'] = image\n",
    "\n",
    "# select the lines which countrycode in countries\n",
    "raw_data = raw_data.loc[raw_data['countrycode'].isin(countries)]\n",
    "raw_data['countrycode'] = [countries_mapping[x] for x in raw_data['countrycode']]"
   ]
  },
  {
   "cell_type": "code",
   "execution_count": 13,
   "metadata": {},
   "outputs": [
    {
     "data": {
      "text/plain": [
       "(49591, 3)"
      ]
     },
     "execution_count": 13,
     "metadata": {},
     "output_type": "execute_result"
    }
   ],
   "source": [
    "raw_data.shape"
   ]
  },
  {
   "cell_type": "markdown",
   "metadata": {
    "colab_type": "text",
    "id": "0OvNu50tdZrL"
   },
   "source": [
    "# Model\n"
   ]
  },
  {
   "cell_type": "markdown",
   "metadata": {
    "colab_type": "text",
    "id": "hNkB9HAIlQij"
   },
   "source": [
    "# Predict countries"
   ]
  },
  {
   "cell_type": "code",
   "execution_count": 14,
   "metadata": {
    "colab": {},
    "colab_type": "code",
    "id": "G3mTCbyIeKRc"
   },
   "outputs": [],
   "source": [
    "# Only keep listed countries: AU,RU,BR,TW,HK,JP,KR,SA\n",
    "classes = ['face','eye','mouth','nose','ear']\n",
    "class_mapping = {'face': 0, 'ear': 1,'eye': 2,'mouth': 3,'nose': 4}"
   ]
  },
  {
   "cell_type": "code",
   "execution_count": 15,
   "metadata": {},
   "outputs": [],
   "source": [
    "sub_data = raw_data[raw_data['word'] == 0]"
   ]
  },
  {
   "cell_type": "code",
   "execution_count": 16,
   "metadata": {},
   "outputs": [
    {
     "data": {
      "text/html": [
       "<div>\n",
       "<style scoped>\n",
       "    .dataframe tbody tr th:only-of-type {\n",
       "        vertical-align: middle;\n",
       "    }\n",
       "\n",
       "    .dataframe tbody tr th {\n",
       "        vertical-align: top;\n",
       "    }\n",
       "\n",
       "    .dataframe thead th {\n",
       "        text-align: right;\n",
       "    }\n",
       "</style>\n",
       "<table border=\"1\" class=\"dataframe\">\n",
       "  <thead>\n",
       "    <tr style=\"text-align: right;\">\n",
       "      <th></th>\n",
       "      <th>word</th>\n",
       "      <th>countrycode</th>\n",
       "      <th>image</th>\n",
       "    </tr>\n",
       "  </thead>\n",
       "  <tbody>\n",
       "    <tr>\n",
       "      <th>182492</th>\n",
       "      <td>0</td>\n",
       "      <td>0</td>\n",
       "      <td>[0, 0, 0, 0, 0, 0, 0, 0, 0, 0, 0, 0, 0, 0, 0, ...</td>\n",
       "    </tr>\n",
       "    <tr>\n",
       "      <th>182497</th>\n",
       "      <td>0</td>\n",
       "      <td>0</td>\n",
       "      <td>[0, 0, 0, 0, 0, 0, 0, 0, 0, 0, 0, 0, 0, 0, 0, ...</td>\n",
       "    </tr>\n",
       "    <tr>\n",
       "      <th>182500</th>\n",
       "      <td>0</td>\n",
       "      <td>0</td>\n",
       "      <td>[0, 0, 0, 0, 0, 0, 0, 0, 0, 0, 0, 0, 0, 0, 0, ...</td>\n",
       "    </tr>\n",
       "    <tr>\n",
       "      <th>182509</th>\n",
       "      <td>0</td>\n",
       "      <td>0</td>\n",
       "      <td>[0, 0, 0, 0, 0, 0, 0, 0, 0, 0, 0, 0, 0, 0, 0, ...</td>\n",
       "    </tr>\n",
       "    <tr>\n",
       "      <th>182543</th>\n",
       "      <td>0</td>\n",
       "      <td>1</td>\n",
       "      <td>[0, 0, 0, 0, 0, 0, 0, 0, 0, 0, 0, 0, 0, 0, 0, ...</td>\n",
       "    </tr>\n",
       "    <tr>\n",
       "      <th>...</th>\n",
       "      <td>...</td>\n",
       "      <td>...</td>\n",
       "      <td>...</td>\n",
       "    </tr>\n",
       "    <tr>\n",
       "      <th>330808</th>\n",
       "      <td>0</td>\n",
       "      <td>0</td>\n",
       "      <td>[0, 0, 0, 0, 0, 0, 0, 0, 0, 0, 0, 0, 0, 0, 0, ...</td>\n",
       "    </tr>\n",
       "    <tr>\n",
       "      <th>330822</th>\n",
       "      <td>0</td>\n",
       "      <td>3</td>\n",
       "      <td>[0, 0, 0, 0, 0, 0, 0, 0, 0, 0, 0, 0, 0, 0, 0, ...</td>\n",
       "    </tr>\n",
       "    <tr>\n",
       "      <th>330847</th>\n",
       "      <td>0</td>\n",
       "      <td>2</td>\n",
       "      <td>[0, 0, 0, 0, 0, 0, 0, 0, 0, 0, 0, 0, 0, 0, 0, ...</td>\n",
       "    </tr>\n",
       "    <tr>\n",
       "      <th>330873</th>\n",
       "      <td>0</td>\n",
       "      <td>0</td>\n",
       "      <td>[0, 0, 0, 0, 0, 0, 0, 0, 0, 0, 0, 0, 0, 0, 0, ...</td>\n",
       "    </tr>\n",
       "    <tr>\n",
       "      <th>330892</th>\n",
       "      <td>0</td>\n",
       "      <td>3</td>\n",
       "      <td>[0, 0, 0, 0, 0, 0, 0, 0, 0, 0, 0, 0, 0, 0, 0, ...</td>\n",
       "    </tr>\n",
       "  </tbody>\n",
       "</table>\n",
       "<p>10568 rows × 3 columns</p>\n",
       "</div>"
      ],
      "text/plain": [
       "        word  countrycode                                              image\n",
       "182492     0            0  [0, 0, 0, 0, 0, 0, 0, 0, 0, 0, 0, 0, 0, 0, 0, ...\n",
       "182497     0            0  [0, 0, 0, 0, 0, 0, 0, 0, 0, 0, 0, 0, 0, 0, 0, ...\n",
       "182500     0            0  [0, 0, 0, 0, 0, 0, 0, 0, 0, 0, 0, 0, 0, 0, 0, ...\n",
       "182509     0            0  [0, 0, 0, 0, 0, 0, 0, 0, 0, 0, 0, 0, 0, 0, 0, ...\n",
       "182543     0            1  [0, 0, 0, 0, 0, 0, 0, 0, 0, 0, 0, 0, 0, 0, 0, ...\n",
       "...      ...          ...                                                ...\n",
       "330808     0            0  [0, 0, 0, 0, 0, 0, 0, 0, 0, 0, 0, 0, 0, 0, 0, ...\n",
       "330822     0            3  [0, 0, 0, 0, 0, 0, 0, 0, 0, 0, 0, 0, 0, 0, 0, ...\n",
       "330847     0            2  [0, 0, 0, 0, 0, 0, 0, 0, 0, 0, 0, 0, 0, 0, 0, ...\n",
       "330873     0            0  [0, 0, 0, 0, 0, 0, 0, 0, 0, 0, 0, 0, 0, 0, 0, ...\n",
       "330892     0            3  [0, 0, 0, 0, 0, 0, 0, 0, 0, 0, 0, 0, 0, 0, 0, ...\n",
       "\n",
       "[10568 rows x 3 columns]"
      ]
     },
     "execution_count": 16,
     "metadata": {},
     "output_type": "execute_result"
    }
   ],
   "source": [
    "sub_data"
   ]
  },
  {
   "cell_type": "code",
   "execution_count": 17,
   "metadata": {},
   "outputs": [
    {
     "data": {
      "text/plain": [
       "<matplotlib.axes._subplots.AxesSubplot at 0x7f92b29ef4a8>"
      ]
     },
     "execution_count": 17,
     "metadata": {},
     "output_type": "execute_result"
    },
    {
     "data": {
      "image/png": "[encoded data removed]",
      "text/plain": [
       "<Figure size 432x288 with 1 Axes>"
      ]
     },
     "metadata": {
      "needs_background": "light"
     },
     "output_type": "display_data"
    }
   ],
   "source": [
    "sub_data['countrycode'].hist(bins=30)"
   ]
  },
  {
   "cell_type": "markdown",
   "metadata": {
    "colab_type": "text",
    "id": "Lo_QYdo3KcLP"
   },
   "source": [
    "### Split data into train and test"
   ]
  },
  {
   "cell_type": "code",
   "execution_count": 18,
   "metadata": {
    "colab": {},
    "colab_type": "code",
    "id": "6mgvEfbXKcLR"
   },
   "outputs": [],
   "source": [
    "# randomize data\n",
    "from sklearn.utils import shuffle\n",
    "# data_rnd = shuffle(raw_data[(raw_data['recognized']==1)][['image','countrycode']])\n",
    "\n",
    "# 你可以在这里调整下是不是选择一个word类别来预测countrycode，现在是有所有的类别\n",
    "\n",
    "\n",
    "data_rnd = shuffle(sub_data[[\"image\",'countrycode']])\n",
    "x = train_remake(data_rnd['image'])\n",
    "y = data_rnd['countrycode']"
   ]
  },
  {
   "cell_type": "code",
   "execution_count": 19,
   "metadata": {
    "colab": {},
    "colab_type": "code",
    "id": "iAMKQYo8KcLU"
   },
   "outputs": [],
   "source": [
    "from sklearn.model_selection import train_test_split\n",
    "x_train,x_test,y_train,y_test = train_test_split(x,y,test_size=0.2, random_state=4552,stratify=y)\n",
    "x_val,x_test,y_val,y_test = train_test_split(x_test,y_test,test_size=0.5, random_state=4552,stratify=y_test)\n",
    "x_train = np.array(x_train)\n",
    "x_val = np.array(x_val)\n",
    "x_test = np.array(x_test)\n",
    "y_train = np.array(y_train)\n",
    "y_val = np.array(y_val)\n",
    "y_test = np.array(y_test)\n",
    "# 没有确定data是不是balanced"
   ]
  },
  {
   "cell_type": "code",
   "execution_count": 20,
   "metadata": {},
   "outputs": [
    {
     "name": "stdout",
     "output_type": "stream",
     "text": [
      "(8454, 15625)\n",
      "(1057, 15625)\n",
      "(1057, 15625)\n",
      "(8454,)\n",
      "(1057,)\n",
      "(1057,)\n"
     ]
    }
   ],
   "source": [
    "print(x_train.shape)\n",
    "print(x_val.shape)\n",
    "print(x_test.shape)\n",
    "print(y_train.shape)\n",
    "print(y_val.shape)\n",
    "print(y_test.shape)"
   ]
  },
  {
   "cell_type": "markdown",
   "metadata": {
    "colab_type": "text",
    "id": "J9sAf2OYKcLW"
   },
   "source": [
    "### Reshape and Normalize"
   ]
  },
  {
   "cell_type": "code",
   "execution_count": 21,
   "metadata": {
    "colab": {},
    "colab_type": "code",
    "id": "0DT7gZAYKcLX"
   },
   "outputs": [],
   "source": [
    "# Reshape and normalize\n",
    "x_train = x_train.reshape(x_train.shape[0], image_size, image_size, 1).astype('float32')\n",
    "x_val = x_val.reshape(x_val.shape[0], image_size, image_size, 1).astype('float32')\n",
    "x_test = x_test.reshape(x_test.shape[0], image_size, image_size, 1).astype('float32')\n",
    "\n",
    "x_train /= 255.0\n",
    "x_val /= 255.0\n",
    "x_test /= 255.0\n",
    "\n",
    "# Convert class vectors to class matrices\n",
    "y_train = keras.utils.to_categorical(y_train, len(countries))\n",
    "y_val = keras.utils.to_categorical(y_val, len(countries))\n",
    "y_test = keras.utils.to_categorical(y_test, len(countries))"
   ]
  },
  {
   "cell_type": "code",
   "execution_count": 22,
   "metadata": {},
   "outputs": [
    {
     "data": {
      "text/plain": [
       "(1057, 125, 125, 1)"
      ]
     },
     "execution_count": 22,
     "metadata": {},
     "output_type": "execute_result"
    }
   ],
   "source": [
    "x_val.shape"
   ]
  },
  {
   "cell_type": "markdown",
   "metadata": {
    "colab_type": "text",
    "id": "9zoUB34yKcLd"
   },
   "source": [
    "### Build model"
   ]
  },
  {
   "cell_type": "code",
   "execution_count": 23,
   "metadata": {
    "colab": {
     "base_uri": "https://localhost:8080/",
     "height": 459
    },
    "colab_type": "code",
    "id": "eK792UL1KcLd",
    "outputId": "7fcf9532-5795-4cef-95e4-6a8e44606ab1"
   },
   "outputs": [
    {
     "name": "stdout",
     "output_type": "stream",
     "text": [
      "Model: \"sequential\"\n",
      "_________________________________________________________________\n",
      "Layer (type)                 Output Shape              Param #   \n",
      "=================================================================\n",
      "conv2d (Conv2D)              (None, 125, 125, 64)      640       \n",
      "_________________________________________________________________\n",
      "max_pooling2d (MaxPooling2D) (None, 62, 62, 64)        0         \n",
      "_________________________________________________________________\n",
      "conv2d_1 (Conv2D)            (None, 62, 62, 64)        36928     \n",
      "_________________________________________________________________\n",
      "max_pooling2d_1 (MaxPooling2 (None, 31, 31, 64)        0         \n",
      "_________________________________________________________________\n",
      "conv2d_2 (Conv2D)            (None, 31, 31, 128)       73856     \n",
      "_________________________________________________________________\n",
      "max_pooling2d_2 (MaxPooling2 (None, 15, 15, 128)       0         \n",
      "_________________________________________________________________\n",
      "conv2d_3 (Conv2D)            (None, 15, 15, 128)       147584    \n",
      "_________________________________________________________________\n",
      "max_pooling2d_3 (MaxPooling2 (None, 7, 7, 128)         0         \n",
      "_________________________________________________________________\n",
      "conv2d_4 (Conv2D)            (None, 7, 7, 64)          73792     \n",
      "_________________________________________________________________\n",
      "max_pooling2d_4 (MaxPooling2 (None, 3, 3, 64)          0         \n",
      "_________________________________________________________________\n",
      "conv2d_5 (Conv2D)            (None, 3, 3, 64)          36928     \n",
      "_________________________________________________________________\n",
      "max_pooling2d_5 (MaxPooling2 (None, 1, 1, 64)          0         \n",
      "_________________________________________________________________\n",
      "flatten (Flatten)            (None, 64)                0         \n",
      "_________________________________________________________________\n",
      "dense (Dense)                (None, 64)                4160      \n",
      "_________________________________________________________________\n",
      "dense_1 (Dense)              (None, 4)                 260       \n",
      "=================================================================\n",
      "Total params: 374,148\n",
      "Trainable params: 374,148\n",
      "Non-trainable params: 0\n",
      "_________________________________________________________________\n"
     ]
    }
   ],
   "source": [
    "# Define model\n",
    "model2 = keras.Sequential()\n",
    "model2.add(layers.Convolution2D(64, (3, 3),\n",
    "                        padding='same',\n",
    "                        input_shape=x_train.shape[1:], activation='relu'))\n",
    "model2.add(layers.MaxPooling2D(pool_size=(2, 2)))\n",
    "model2.add(layers.Convolution2D(64, (3, 3), padding='same', activation= 'relu'))\n",
    "model2.add(layers.MaxPooling2D(pool_size=(2, 2)))\n",
    "model2.add(layers.Convolution2D(128, (3, 3), padding='same', activation= 'relu'))\n",
    "model2.add(layers.MaxPooling2D(pool_size=(2, 2)))\n",
    "model2.add(layers.Convolution2D(128, (3, 3), padding='same', activation= 'relu'))\n",
    "model2.add(layers.MaxPooling2D(pool_size=(2, 2)))\n",
    "model2.add(layers.Convolution2D(64, (3, 3), padding='same', activation= 'relu'))\n",
    "model2.add(layers.MaxPooling2D(pool_size =(2, 2)))\n",
    "model2.add(layers.Convolution2D(64, (3, 3), padding='same', activation= 'relu'))\n",
    "model2.add(layers.MaxPooling2D(pool_size =(2, 2)))\n",
    "#model2.add(layers.Convolution2D(128, (3, 3), padding='same', activation= 'relu'))\n",
    "#model2.add(layers.MaxPooling2D(pool_size =(2, 2)))\n",
    "#model2.add(layers.Convolution2D(128, (3, 3), padding='same', activation= 'relu'))\n",
    "#model2.add(layers.MaxPooling2D(pool_size =(2, 2)))\n",
    "model2.add(layers.Flatten())\n",
    "model2.add(layers.Dense(64, activation='relu'))\n",
    "model2.add(layers.Dense(len(countries), activation='softmax')) \n",
    "model2.summary()"
   ]
  },
  {
   "cell_type": "code",
   "execution_count": 27,
   "metadata": {
    "colab": {},
    "colab_type": "code",
    "id": "-sHHCNktKcLf"
   },
   "outputs": [],
   "source": [
    "# Train model\n",
    "import tensorflow\n",
    "# adam = tf.optimizers.AdamOptimizer(lr=0.01, beta_2 = 0.99999)\n",
    "\n",
    "model2.compile(loss='categorical_crossentropy',\n",
    "              optimizer=tf.keras.optimizers.Adam(lr=0.001),\n",
    "              metrics=['accuracy'])"
   ]
  },
  {
   "cell_type": "markdown",
   "metadata": {
    "colab_type": "text",
    "id": "ao9NYW5kKyCM"
   },
   "source": [
    "### Train Model"
   ]
  },
  {
   "cell_type": "code",
   "execution_count": 28,
   "metadata": {
    "colab": {
     "base_uri": "https://localhost:8080/",
     "height": 348
    },
    "colab_type": "code",
    "id": "WJpNwbmQKyCN",
    "outputId": "e3f63154-5783-4152-da6b-7f414d0b301d"
   },
   "outputs": [
    {
     "name": "stdout",
     "output_type": "stream",
     "text": [
      "Train on 8454 samples, validate on 1057 samples\n",
      "Epoch 1/10\n",
      "8454/8454 [==============================] - 92s 11ms/sample - loss: 1.3702 - accuracy: 0.3151 - val_loss: 1.3605 - val_accuracy: 0.3728\n",
      "Epoch 2/10\n",
      "8454/8454 [==============================] - 96s 11ms/sample - loss: 1.3006 - accuracy: 0.3927 - val_loss: 1.2861 - val_accuracy: 0.3945\n",
      "Epoch 3/10\n",
      "8454/8454 [==============================] - 99s 12ms/sample - loss: 1.2345 - accuracy: 0.4494 - val_loss: 1.2167 - val_accuracy: 0.4655\n",
      "Epoch 4/10\n",
      "8454/8454 [==============================] - 97s 11ms/sample - loss: 1.1785 - accuracy: 0.4797 - val_loss: 1.2216 - val_accuracy: 0.4598\n",
      "Epoch 5/10\n",
      "8454/8454 [==============================] - 93s 11ms/sample - loss: 1.1239 - accuracy: 0.5160 - val_loss: 1.2111 - val_accuracy: 0.4532\n",
      "Epoch 6/10\n",
      "8454/8454 [==============================] - 91s 11ms/sample - loss: 1.0669 - accuracy: 0.5371 - val_loss: 1.1967 - val_accuracy: 0.4740\n",
      "Epoch 7/10\n",
      "8454/8454 [==============================] - 92s 11ms/sample - loss: 0.9876 - accuracy: 0.5872 - val_loss: 1.2976 - val_accuracy: 0.4456\n",
      "Epoch 8/10\n",
      "8454/8454 [==============================] - 94s 11ms/sample - loss: 0.9028 - accuracy: 0.6246 - val_loss: 1.3280 - val_accuracy: 0.4711\n",
      "Epoch 9/10\n",
      "8454/8454 [==============================] - 94s 11ms/sample - loss: 0.7835 - accuracy: 0.6809 - val_loss: 1.5311 - val_accuracy: 0.4522\n",
      "Epoch 10/10\n",
      "8454/8454 [==============================] - 95s 11ms/sample - loss: 0.6629 - accuracy: 0.7294 - val_loss: 1.6209 - val_accuracy: 0.4551\n"
     ]
    },
    {
     "data": {
      "text/plain": [
       "<tensorflow.python.keras.callbacks.History at 0x7fd3f2ba8470>"
      ]
     },
     "execution_count": 28,
     "metadata": {},
     "output_type": "execute_result"
    }
   ],
   "source": [
    "BATCH_SIZE = 64\n",
    "model2.fit(x = x_train, y = y_train, \\\n",
    "          validation_data=(x_val, y_val), batch_size = BATCH_SIZE, verbose=1, epochs=10)"
   ]
  },
  {
   "cell_type": "markdown",
   "metadata": {
    "colab_type": "text",
    "id": "qF3RCEDpKyCQ"
   },
   "source": [
    "### Testing"
   ]
  },
  {
   "cell_type": "code",
   "execution_count": 44,
   "metadata": {
    "colab": {
     "base_uri": "https://localhost:8080/",
     "height": 34
    },
    "colab_type": "code",
    "id": "EDyi7g9PKyCQ",
    "outputId": "0a405b4e-8943-4861-a44e-ddda0715a032"
   },
   "outputs": [
    {
     "name": "stdout",
     "output_type": "stream",
     "text": [
      "accuracy: 0.3976\n"
     ]
    }
   ],
   "source": [
    "loss,accuracy = model2.evaluate(x_test,y_test, verbose=0)\n",
    "print(\"accuracy: {:.4f}\".format(accuracy))"
   ]
  },
  {
   "cell_type": "code",
   "execution_count": null,
   "metadata": {},
   "outputs": [],
   "source": [
    "model_json = model2.to_json()\n",
    "with open(\"model_json\", \"w\") as json_file:\n",
    "    json_file.write(model2.json)"
   ]
  },
  {
   "cell_type": "code",
   "execution_count": null,
   "metadata": {},
   "outputs": [],
   "source": [
    "model2.save_weights(\"model.h5\")"
   ]
  }
 ],
 "metadata": {
  "colab": {
   "collapsed_sections": [],
   "machine_shape": "hm",
   "name": "6893 Project.ipynb",
   "provenance": [],
   "toc_visible": true
  },
  "kernelspec": {
   "display_name": "Python 3",
   "language": "python",
   "name": "python3"
  },
  "language_info": {
   "codemirror_mode": {
    "name": "ipython",
    "version": 3
   },
   "file_extension": ".py",
   "mimetype": "text/x-python",
   "name": "python",
   "nbconvert_exporter": "python",
   "pygments_lexer": "ipython3",
   "version": "3.6.9"
  }
 },
 "nbformat": 4,
 "nbformat_minor": 1
}
