{
  "nbformat": 4,
  "nbformat_minor": 0,
  "metadata": {
    "colab": {
      "name": "6893_CNN+LSTM.ipynb",
      "provenance": [],
      "collapsed_sections": []
    },
    "kernelspec": {
      "name": "python3",
      "display_name": "Python 3"
    },
    "accelerator": "GPU"
  },
  "cells": [
    {
      "cell_type": "markdown",
      "metadata": {
        "id": "h_LlHW6CMzS3",
        "colab_type": "text"
      },
      "source": [
        "# Load Package"
      ]
    },
    {
      "cell_type": "code",
      "metadata": {
        "id": "eOP0LdIzzKGK",
        "colab_type": "code",
        "colab": {
          "base_uri": "https://localhost:8080/",
          "height": 97
        },
        "outputId": "08582c8d-80a1-41c7-9c20-bdd0a285df39"
      },
      "source": [
        "\n",
        "import os\n",
        "import glob\n",
        "import numpy as np\n",
        "from tensorflow.keras import layers\n",
        "from tensorflow import keras \n",
        "import tensorflow as tf\n",
        "import re\n",
        "import matplotlib.pyplot as plt\n",
        "from random import randint\n",
        "\n",
        "import numpy as np\n",
        "from keras.models import Sequential\n",
        "from keras.layers import Dense,  Masking, Conv1D, MaxPooling1D\n",
        "from keras.layers import Dropout\n",
        "from keras.layers import LSTM\n",
        "from keras.layers import Embedding\n",
        "from keras.callbacks import ModelCheckpoint\n",
        "from keras.utils import np_utils\n",
        "from keras.models import load_model\n",
        "from keras.optimizers import Adam\n",
        "from keras.utils import to_categorical\n",
        "from keras_preprocessing import sequence\n",
        "from sklearn.model_selection import train_test_split\n",
        "import os\n"
      ],
      "execution_count": 3,
      "outputs": [
        {
          "output_type": "display_data",
          "data": {
            "text/html": [
              "<p style=\"color: red;\">\n",
              "The default version of TensorFlow in Colab will soon switch to TensorFlow 2.x.<br>\n",
              "We recommend you <a href=\"https://www.tensorflow.org/guide/migrate\" target=\"_blank\">upgrade</a> now \n",
              "or ensure your notebook will continue to use TensorFlow 1.x via the <code>%tensorflow_version 1.x</code> magic:\n",
              "<a href=\"https://colab.research.google.com/notebooks/tensorflow_version.ipynb\" target=\"_blank\">more info</a>.</p>\n"
            ],
            "text/plain": [
              "<IPython.core.display.HTML object>"
            ]
          },
          "metadata": {
            "tags": []
          }
        },
        {
          "output_type": "stream",
          "text": [
            "Using TensorFlow backend.\n"
          ],
          "name": "stderr"
        }
      ]
    },
    {
      "cell_type": "code",
      "metadata": {
        "id": "WU29PvWr4FN1",
        "colab_type": "code",
        "outputId": "d185efa4-85ff-4c21-e821-8346d36372e9",
        "colab": {
          "base_uri": "https://localhost:8080/",
          "height": 105
        }
      },
      "source": [
        "pip install ndjson"
      ],
      "execution_count": 0,
      "outputs": [
        {
          "output_type": "stream",
          "text": [
            "Collecting ndjson\n",
            "  Downloading https://files.pythonhosted.org/packages/f3/03/7dce7f71bce783fae64015e74b123b5e26074e356401664051d6f2339e7c/ndjson-0.2.0-py2.py3-none-any.whl\n",
            "Installing collected packages: ndjson\n",
            "Successfully installed ndjson-0.2.0\n"
          ],
          "name": "stdout"
        }
      ]
    },
    {
      "cell_type": "code",
      "metadata": {
        "id": "IseMdc6fzSVo",
        "colab_type": "code",
        "colab": {}
      },
      "source": [
        "!mkdir data"
      ],
      "execution_count": 0,
      "outputs": []
    },
    {
      "cell_type": "markdown",
      "metadata": {
        "id": "HYnUPs4nM-Hl",
        "colab_type": "text"
      },
      "source": [
        "# Functions"
      ]
    },
    {
      "cell_type": "code",
      "metadata": {
        "id": "7bpyGMB0z9_-",
        "colab_type": "code",
        "colab": {}
      },
      "source": [
        "def parse_line(data):\n",
        "  \"\"\"Parse an ndjson line and return ink (as np array) and classname.\"\"\"\n",
        "  # sample = ndjson.loads(ndjson_line)\n",
        "  sample = data\n",
        "  class_name = sample[\"countrycode\"]\n",
        "  inkarray = sample[\"drawing\"]\n",
        "  stroke_lengths = [len(stroke[0]) for stroke in inkarray]\n",
        "  total_points = sum(stroke_lengths)\n",
        "  np_ink = np.zeros((total_points, 3), dtype=np.float32)\n",
        "  current_t = 0\n",
        "  for stroke in inkarray:\n",
        "    for i in [0, 1]:\n",
        "      np_ink[current_t:(current_t + len(stroke[0])), i] = stroke[i]\n",
        "    current_t += len(stroke[0])\n",
        "    np_ink[current_t - 1, 2] = 1  # stroke_end\n",
        "  # # Preprocessing.\n",
        "  # # 1. Size normalization.\n",
        "  # lower = np.min(np_ink[:, 0:2], axis=0)\n",
        "  # upper = np.max(np_ink[:, 0:2], axis=0)\n",
        "  # scale = upper - lower\n",
        "  # scale[scale == 0] = 1\n",
        "  # np_ink[:, 0:2] = (np_ink[:, 0:2] - lower) / scale\n",
        "  # # 2. Compute deltas.\n",
        "  # np_ink[1:, 0:2] -= np_ink[0:-1, 0:2]\n",
        "  # np_ink = np_ink[1:, :]\n",
        "  return np_ink, class_name\n",
        "\n",
        "def generator_data(train_x,train_y,batch_size):   \n",
        "    count = 0\n",
        "    index = -1\n",
        "    max_draw = len(train_x)\n",
        "    x = []\n",
        "    y = []\n",
        "    while True:\n",
        "      while count < batch_size:\n",
        "          index += 1\n",
        "          # print(index)\n",
        "          y += [to_categorical(train_y[index], num_classes=class_num)]\n",
        "          x += [sequence.pad_sequences([train_x[index]], value=-1, \\\n",
        "                                       maxlen=max_len, padding='post')[0]]\n",
        "          if index >= max_draw-1:\n",
        "              index = -1\n",
        "          count += 1\n",
        "\n",
        "      yield[np.array(x),np.array(y,)]\n",
        "      x = []\n",
        "      y = []\n",
        "      count = 0"
      ],
      "execution_count": 0,
      "outputs": []
    },
    {
      "cell_type": "markdown",
      "metadata": {
        "id": "kE6fOx_aNAPm",
        "colab_type": "text"
      },
      "source": [
        "# CNN+LSTM"
      ]
    },
    {
      "cell_type": "markdown",
      "metadata": {
        "id": "KlzOnsiYNp31",
        "colab_type": "text"
      },
      "source": [
        "## Load Data"
      ]
    },
    {
      "cell_type": "code",
      "metadata": {
        "id": "tEvWEFcxzVG_",
        "colab_type": "code",
        "colab": {}
      },
      "source": [
        "classes = ['eye']#,'mouth','nose','ear','circle']"
      ],
      "execution_count": 0,
      "outputs": []
    },
    {
      "cell_type": "code",
      "metadata": {
        "id": "uGrQ2L_AzZdS",
        "colab_type": "code",
        "outputId": "70a5500c-3531-4ae6-ed4f-df6b168eb8a6",
        "colab": {
          "base_uri": "https://localhost:8080/",
          "height": 34
        }
      },
      "source": [
        "import urllib.request\n",
        "import ndjson\n",
        "def download():\n",
        "  \n",
        "  # base = 'https://storage.googleapis.com/quickdraw_dataset/full/binary/'\n",
        "  # base = 'https://storage.googleapis.com/quickdraw_dataset/full/numpy_bitmap/'\n",
        "  base = 'https://storage.googleapis.com/quickdraw_dataset/full/simplified/'\n",
        "  \n",
        "  for c in classes:\n",
        "    # path = base+c+'.bin'\n",
        "    path = base+c+'.ndjson'\n",
        "    print(path)\n",
        "    # urllib.request.urlretrieve(path, 'data/'+c+'.bin')\n",
        "    urllib.request.urlretrieve(path, 'data/'+c+'.ndjson')\n",
        "download()"
      ],
      "execution_count": 0,
      "outputs": [
        {
          "output_type": "stream",
          "text": [
            "https://storage.googleapis.com/quickdraw_dataset/full/simplified/eye.ndjson\n"
          ],
          "name": "stdout"
        }
      ]
    },
    {
      "cell_type": "code",
      "metadata": {
        "id": "WRojYxuS0DR0",
        "colab_type": "code",
        "colab": {}
      },
      "source": [
        "all_files = glob.glob(os.path.join('data', '*.ndjson'))\n",
        "with open(all_files[0]) as f:\n",
        "    data = ndjson.load(f)"
      ],
      "execution_count": 0,
      "outputs": []
    },
    {
      "cell_type": "markdown",
      "metadata": {
        "colab_type": "text",
        "id": "20956p39Owz0"
      },
      "source": [
        "## Data Pre-processing"
      ]
    },
    {
      "cell_type": "code",
      "metadata": {
        "id": "2AsGpeqowIza",
        "colab_type": "code",
        "outputId": "8a85a050-f7b0-4104-cf56-41cb42ebb6e8",
        "colab": {
          "base_uri": "https://localhost:8080/",
          "height": 476
        }
      },
      "source": [
        "# Add stroke information to original vector drawings\n",
        "parse_line(data[6])[0]"
      ],
      "execution_count": 0,
      "outputs": [
        {
          "output_type": "execute_result",
          "data": {
            "text/plain": [
              "array([[  1.,  36.,   0.],\n",
              "       [ 29.,  30.,   0.],\n",
              "       [ 67.,   5.,   0.],\n",
              "       [ 89.,   5.,   0.],\n",
              "       [ 98.,   8.,   0.],\n",
              "       [108.,  17.,   0.],\n",
              "       [123.,   8.,   0.],\n",
              "       [143.,   2.,   0.],\n",
              "       [164.,   0.,   0.],\n",
              "       [181.,   5.,   0.],\n",
              "       [211.,  23.,   0.],\n",
              "       [243.,  35.,   0.],\n",
              "       [231.,  37.,   1.],\n",
              "       [  0.,  40.,   0.],\n",
              "       [  4.,  55.,   0.],\n",
              "       [ 22.,  74.,   0.],\n",
              "       [ 41.,  89.,   0.],\n",
              "       [ 65.,  95.,   0.],\n",
              "       [117.,  96.,   0.],\n",
              "       [161.,  95.,   0.],\n",
              "       [210.,  79.,   0.],\n",
              "       [249.,  57.,   0.],\n",
              "       [254.,  49.,   0.],\n",
              "       [255.,  42.,   0.],\n",
              "       [252.,  41.,   1.],\n",
              "       [  1.,  46.,   0.],\n",
              "       [240.,  42.,   1.]], dtype=float32)"
            ]
          },
          "metadata": {
            "tags": []
          },
          "execution_count": 25
        }
      ]
    },
    {
      "cell_type": "code",
      "metadata": {
        "id": "GLJwemkfPcIO",
        "colab_type": "code",
        "colab": {
          "base_uri": "https://localhost:8080/",
          "height": 34
        },
        "outputId": "9c753409-fcf3-4509-b021-06ad37036cb4"
      },
      "source": [
        "a.shape"
      ],
      "execution_count": 7,
      "outputs": [
        {
          "output_type": "execute_result",
          "data": {
            "text/plain": [
              "(27, 3)"
            ]
          },
          "metadata": {
            "tags": []
          },
          "execution_count": 7
        }
      ]
    },
    {
      "cell_type": "code",
      "metadata": {
        "id": "KzahrESIPEHS",
        "colab_type": "code",
        "colab": {
          "base_uri": "https://localhost:8080/",
          "height": 136
        },
        "outputId": "3be871b7-9d17-4696-91d9-cbad02806c30"
      },
      "source": [
        "# pad sequence with -1 to make the input for each image has the same length\n",
        "np.array(sequence.pad_sequences([parse_line(data[6])[0]], value=-1, \\\n",
        "                                       maxlen=400, padding='post')[0])"
      ],
      "execution_count": 6,
      "outputs": [
        {
          "output_type": "execute_result",
          "data": {
            "text/plain": [
              "array([[ 1, 36,  0],\n",
              "       [29, 30,  0],\n",
              "       [67,  5,  0],\n",
              "       ...,\n",
              "       [-1, -1, -1],\n",
              "       [-1, -1, -1],\n",
              "       [-1, -1, -1]], dtype=int32)"
            ]
          },
          "metadata": {
            "tags": []
          },
          "execution_count": 6
        }
      ]
    },
    {
      "cell_type": "code",
      "metadata": {
        "id": "ZkaaYMvN2caY",
        "colab_type": "code",
        "colab": {}
      },
      "source": [
        "# only keep the data we want\n",
        "countries = ['AU','KR','SA','BR']\n",
        "index = 0\n",
        "while index < len(data):\n",
        "  if data[index]['recognized']== 0 or data[index]['countrycode'] not in countries:\n",
        "    data.pop(index)\n",
        "  else:\n",
        "    index += 1"
      ],
      "execution_count": 0,
      "outputs": []
    },
    {
      "cell_type": "code",
      "metadata": {
        "id": "CaSQBAKtzyxX",
        "colab_type": "code",
        "colab": {}
      },
      "source": [
        "# change data format to feed into RNN\n",
        "np_ink = []\n",
        "countrycode = []\n",
        "for i in data:\n",
        "  result = parse_line(i)\n",
        "  np_ink += [result[0]]\n",
        "  countrycode += [result[1]]\n",
        "countries_mapping = {'AU': 0,'BR': 1,'KR': 2,'SA': 3}\n",
        "countrycode = [countries_mapping[x] for x in countrycode]\n"
      ],
      "execution_count": 0,
      "outputs": []
    },
    {
      "cell_type": "code",
      "metadata": {
        "id": "QoteHV6Mw4B0",
        "colab_type": "code",
        "outputId": "1690897d-0b35-4d34-fe31-7cf78fcdd448",
        "colab": {
          "base_uri": "https://localhost:8080/",
          "height": 34
        }
      },
      "source": [
        "# the data are roughly balanced\n",
        "from collections import Counter\n",
        "result = Counter(countrycode)\n",
        "print(result)"
      ],
      "execution_count": 0,
      "outputs": [
        {
          "output_type": "stream",
          "text": [
            "Counter({0: 2744, 1: 2177, 2: 1891, 3: 1600})\n"
          ],
          "name": "stdout"
        }
      ]
    },
    {
      "cell_type": "markdown",
      "metadata": {
        "id": "zyG6VeOFN7Ag",
        "colab_type": "text"
      },
      "source": [
        "## Build Model"
      ]
    },
    {
      "cell_type": "code",
      "metadata": {
        "id": "WVorIVFq6TyZ",
        "colab_type": "code",
        "colab": {}
      },
      "source": [
        "max_len = max([len(draw) for draw in np_ink]) # 286\n",
        "class_num = len(countries)"
      ],
      "execution_count": 0,
      "outputs": []
    },
    {
      "cell_type": "code",
      "metadata": {
        "id": "JeEYJanSGrHv",
        "colab_type": "code",
        "colab": {}
      },
      "source": [
        "batch_size = 64\n",
        "train_x = np_ink[:7000]\n",
        "train_y = countrycode[:7000]\n",
        "test_x = np_ink[7000:]\n",
        "test_y = countrycode[7000:]\n",
        "\n",
        "\n",
        "generator = generator_data(train_x,train_y,batch_size)\n",
        "generator_dev = generator_data(train_x,train_y,batch_size)\n",
        "steps = len(train_x) // batch_size\n",
        "steps_dev = len(test_x) // batch_size\n"
      ],
      "execution_count": 0,
      "outputs": []
    },
    {
      "cell_type": "code",
      "metadata": {
        "id": "nxueA0Ml_IFj",
        "colab_type": "code",
        "outputId": "0ce00d02-2340-41c5-b5e3-0e7d522233ed",
        "colab": {
          "base_uri": "https://localhost:8080/",
          "height": 323
        }
      },
      "source": [
        "model = Sequential()\n",
        "\n",
        "#conv+lstm\n",
        "model.add(Conv1D(filters=128, kernel_size=3, activation='relu',padding=\"same\"\\\n",
        "                 ,input_shape=(None,3)))\n",
        "model.add(MaxPooling1D(pool_size=2,strides=2))\n",
        "model.add(Masking(mask_value=-1, input_shape=(max_len//2, 3)))\n",
        "model.add(LSTM(units=256, input_shape=(max_len//2, 3)))\n",
        "# model.add(Dropout(0.2))\n",
        "model.add(Dense(class_num, activation='softmax'))\n",
        "adam = Adam(lr=0.0009, beta_1=0.9, beta_2=0.999, epsilon=1e-08, amsgrad=True)\n",
        "model.compile(loss=\"categorical_crossentropy\", optimizer=adam, metrics=[\"accuracy\"])\n",
        "\n",
        "model.summary()\n"
      ],
      "execution_count": 0,
      "outputs": [
        {
          "output_type": "stream",
          "text": [
            "Model: \"sequential_6\"\n",
            "_________________________________________________________________\n",
            "Layer (type)                 Output Shape              Param #   \n",
            "=================================================================\n",
            "conv1d_6 (Conv1D)            (None, None, 128)         1280      \n",
            "_________________________________________________________________\n",
            "max_pooling1d_6 (MaxPooling1 (None, None, 128)         0         \n",
            "_________________________________________________________________\n",
            "masking_6 (Masking)          (None, None, 128)         0         \n",
            "_________________________________________________________________\n",
            "lstm_6 (LSTM)                (None, 256)               394240    \n",
            "_________________________________________________________________\n",
            "dense_6 (Dense)              (None, 4)                 1028      \n",
            "=================================================================\n",
            "Total params: 396,548\n",
            "Trainable params: 396,548\n",
            "Non-trainable params: 0\n",
            "_________________________________________________________________\n"
          ],
          "name": "stdout"
        }
      ]
    },
    {
      "cell_type": "markdown",
      "metadata": {
        "id": "RN2exnL5OFTV",
        "colab_type": "text"
      },
      "source": [
        "Here is the structure of RNN"
      ]
    },
    {
      "cell_type": "code",
      "metadata": {
        "id": "1_RcteHJ42_o",
        "colab_type": "code",
        "outputId": "4318c31b-7f1d-4bff-d72c-d16b1aa48eef",
        "colab": {
          "base_uri": "https://localhost:8080/",
          "height": 122
        }
      },
      "source": [
        "from google.colab import drive\n",
        "drive.mount('/content/gdrive')"
      ],
      "execution_count": 0,
      "outputs": [
        {
          "output_type": "stream",
          "text": [
            "Go to this URL in a browser: https://accounts.google.com/o/oauth2/auth?client_id=947318989803-6bn6qk8qdgf4n4g3pfee6491hc0brc4i.apps.googleusercontent.com&redirect_uri=urn%3aietf%3awg%3aoauth%3a2.0%3aoob&response_type=code&scope=email%20https%3a%2f%2fwww.googleapis.com%2fauth%2fdocs.test%20https%3a%2f%2fwww.googleapis.com%2fauth%2fdrive%20https%3a%2f%2fwww.googleapis.com%2fauth%2fdrive.photos.readonly%20https%3a%2f%2fwww.googleapis.com%2fauth%2fpeopleapi.readonly\n",
            "\n",
            "Enter your authorization code:\n",
            "··········\n",
            "Mounted at /content/gdrive\n"
          ],
          "name": "stdout"
        }
      ]
    },
    {
      "cell_type": "code",
      "metadata": {
        "id": "Hhxd7wRQ4qVt",
        "colab_type": "code",
        "outputId": "a72d8448-45d3-4a95-c761-561c882736cc",
        "colab": {
          "base_uri": "https://localhost:8080/",
          "height": 644
        }
      },
      "source": [
        "from keras.utils import plot_model\n",
        "tf.keras.utils.plot_model(model, to_file='gdrive/My Drive/rnn_country_classfication_model.png',\\\n",
        "                          show_shapes=True) "
      ],
      "execution_count": 0,
      "outputs": [
        {
          "output_type": "execute_result",
          "data": {
            "image/png": "[encoded data removed]",
            "text/plain": [
              "<IPython.core.display.Image object>"
            ]
          },
          "metadata": {
            "tags": []
          },
          "execution_count": 23
        }
      ]
    },
    {
      "cell_type": "markdown",
      "metadata": {
        "id": "JaKR3j90OKuv",
        "colab_type": "text"
      },
      "source": [
        "## Train the Model"
      ]
    },
    {
      "cell_type": "code",
      "metadata": {
        "id": "YPbc3Nz2msE3",
        "colab_type": "code",
        "outputId": "87cda305-6313-4989-ea81-f3e0e132de4d",
        "colab": {
          "base_uri": "https://localhost:8080/",
          "height": 394
        }
      },
      "source": [
        "model.fit_generator(generator=generator, steps_per_epoch=steps, \\\n",
        "                    epochs=10,verbose=1, validation_data = generator_dev,validation_steps = steps_dev)  \n",
        "\n"
      ],
      "execution_count": 0,
      "outputs": [
        {
          "output_type": "stream",
          "text": [
            "Epoch 1/10\n",
            "109/109 [==============================] - 31s 287ms/step - loss: 1.3724 - acc: 0.3247 - val_loss: 1.3670 - val_acc: 0.3246\n",
            "Epoch 2/10\n",
            "109/109 [==============================] - 29s 269ms/step - loss: 1.3684 - acc: 0.3253 - val_loss: 1.3711 - val_acc: 0.3161\n",
            "Epoch 3/10\n",
            "109/109 [==============================] - 29s 267ms/step - loss: 1.3680 - acc: 0.3251 - val_loss: 1.3614 - val_acc: 0.3324\n",
            "Epoch 4/10\n",
            "109/109 [==============================] - 30s 271ms/step - loss: 1.3678 - acc: 0.3253 - val_loss: 1.3685 - val_acc: 0.3253\n",
            "Epoch 5/10\n",
            "109/109 [==============================] - 29s 264ms/step - loss: 1.3676 - acc: 0.3254 - val_loss: 1.3654 - val_acc: 0.3295\n",
            "Epoch 6/10\n",
            "109/109 [==============================] - 28s 259ms/step - loss: 1.3673 - acc: 0.3254 - val_loss: 1.3663 - val_acc: 0.3224\n",
            "Epoch 7/10\n",
            "109/109 [==============================] - 29s 264ms/step - loss: 1.3677 - acc: 0.3251 - val_loss: 1.3838 - val_acc: 0.2955\n",
            "Epoch 8/10\n",
            "109/109 [==============================] - 28s 260ms/step - loss: 1.3687 - acc: 0.3148 - val_loss: 1.3608 - val_acc: 0.3310\n",
            "Epoch 9/10\n",
            "109/109 [==============================] - 29s 268ms/step - loss: 1.3608 - acc: 0.3230 - val_loss: 1.3543 - val_acc: 0.3288\n",
            "Epoch 10/10\n",
            "109/109 [==============================] - 28s 260ms/step - loss: 1.3562 - acc: 0.3270 - val_loss: 1.3581 - val_acc: 0.3274\n"
          ],
          "name": "stdout"
        },
        {
          "output_type": "execute_result",
          "data": {
            "text/plain": [
              "<keras.callbacks.History at 0x7fd9dfd05f60>"
            ]
          },
          "metadata": {
            "tags": []
          },
          "execution_count": 86
        }
      ]
    },
    {
      "cell_type": "markdown",
      "metadata": {
        "id": "I5rOVAdONV7m",
        "colab_type": "text"
      },
      "source": [
        "# Model Comparision"
      ]
    },
    {
      "cell_type": "code",
      "metadata": {
        "id": "CdkTzzwDxv9y",
        "colab_type": "code",
        "outputId": "6651ed2e-6064-41a0-cca2-aabb6ab01d78",
        "colab": {
          "base_uri": "https://localhost:8080/",
          "height": 295
        }
      },
      "source": [
        "x_rnn = ['face','ear','eye','mouth','nose']\n",
        "y_rnn = [33.2,31.8,33.2,30.8,33.6]\n",
        "y_cnn = [46,42,41,46,41]\n",
        "\n",
        "x = range(len(x_rnn))\n",
        "\n",
        "rects1 = plt.bar(x,y_rnn, color = \"#4292c6\", width=0.4, alpha=0.8, label=\"CNN+RNN\")\n",
        "rects2 = plt.bar([i + 0.4 for i in x],y_cnn, color = \"#08306b\", width=0.4, alpha=0.8, label=\"CNN\")\n",
        "plt.xticks([i + 0.2 for i in x],x_rnn)\n",
        "plt.ylim(20, 50)     \n",
        "plt.ylabel(\"test accuracy\")\n",
        "\n",
        "\n",
        "plt.xlabel(\"Category\")\n",
        "plt.title(\"Accuracy using CNN and RNN\")\n",
        "plt.legend(loc='lower right',ncol=1)    \n",
        "  \n",
        "\n",
        "for rect in rects1:\n",
        "    height = rect.get_height()\n",
        "    plt.text(rect.get_x() + rect.get_width() / 2, height+1, str(height), ha=\"center\", va=\"bottom\")\n",
        "for rect in rects2:\n",
        "    height = rect.get_height()\n",
        "    plt.text(rect.get_x() + rect.get_width() / 2, height+1, str(height), ha=\"center\", va=\"bottom\")\n",
        "plt.show()\n"
      ],
      "execution_count": 0,
      "outputs": [
        {
          "output_type": "display_data",
          "data": {
            "image/png": "[encoded data removed]",
            "text/plain": [
              "<Figure size 432x288 with 1 Axes>"
            ]
          },
          "metadata": {
            "tags": []
          }
        }
      ]
    },
    {
      "cell_type": "code",
      "metadata": {
        "id": "G_F54MnrH_QT",
        "colab_type": "code",
        "colab": {}
      },
      "source": [
        ""
      ],
      "execution_count": 0,
      "outputs": []
    }
  ]
}