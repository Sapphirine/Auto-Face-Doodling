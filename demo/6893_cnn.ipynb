{
 "cells": [
  {
   "cell_type": "markdown",
   "metadata": {
    "colab_type": "text",
    "id": "jN7PTwQ2nu8J"
   },
   "source": [
    "# Install Packages"
   ]
  },
  {
   "cell_type": "markdown",
   "metadata": {
    "colab": {
     "base_uri": "https://localhost:8080/",
     "height": 615
    },
    "colab_type": "code",
    "id": "1BWo8_GAzH53",
    "outputId": "4173f381-0ecd-43af-c230-3c6aa98b573c"
   },
   "source": [
    "!pip install --upgrade tensorflow==2.0.0"
   ]
  },
  {
   "cell_type": "markdown",
   "metadata": {
    "colab": {
     "base_uri": "https://localhost:8080/",
     "height": 105
    },
    "colab_type": "code",
    "id": "c7WYKdJ-gPz0",
    "outputId": "ca471efb-65b3-44e3-9e1d-3caea097afee"
   },
   "source": [
    "!pip install keras"
   ]
  },
  {
   "cell_type": "code",
   "execution_count": 1,
   "metadata": {
    "colab": {},
    "colab_type": "code",
    "id": "rTFORyXTo9-7"
   },
   "outputs": [],
   "source": [
    "import os\n",
    "import glob\n",
    "import numpy as np\n",
    "from tensorflow.keras import layers\n",
    "from tensorflow import keras \n",
    "import tensorflow as tf\n",
    "import re\n",
    "import matplotlib.pyplot as plt\n",
    "from random import randint\n",
    "import pandas as pd"
   ]
  },
  {
   "cell_type": "markdown",
   "metadata": {
    "colab_type": "text",
    "id": "meowHYI9p_RL"
   },
   "source": [
    "# Functions"
   ]
  },
  {
   "cell_type": "code",
   "execution_count": 2,
   "metadata": {
    "colab": {},
    "colab_type": "code",
    "id": "75XWDUTZqBB2"
   },
   "outputs": [],
   "source": [
    "def train_remake(array):\n",
    "    res = []\n",
    "    for row in array:\n",
    "        res += [row]\n",
    "    return res"
   ]
  },
  {
   "cell_type": "markdown",
   "metadata": {
    "colab_type": "text",
    "id": "Kq_5UFk5nT5r"
   },
   "source": [
    "# Import Data"
   ]
  },
  {
   "cell_type": "code",
   "execution_count": 3,
   "metadata": {
    "colab": {
     "base_uri": "https://localhost:8080/",
     "height": 34
    },
    "colab_type": "code",
    "id": "OR8AAmcCB-RC",
    "outputId": "109af036-085d-4b47-aed3-46ddd4104e60"
   },
   "outputs": [],
   "source": [
    "!mkdir data"
   ]
  },
  {
   "cell_type": "code",
   "execution_count": 4,
   "metadata": {
    "colab": {},
    "colab_type": "code",
    "id": "ffJdI0V9_2t4"
   },
   "outputs": [],
   "source": [
    "classes = ['face','eye','mouth','nose','ear']\n",
    "class_mapping = {'face': 0, 'ear': 1,'eye': 2,'mouth': 3,'nose': 4}\n",
    "#countries = ['AU','RU','BR','KR','SA']#'TW','HK','JP'\n",
    "#countries = ['AU','KR','SA']\n",
    "#countries_mapping = {'AU': 0,'RU': 1,'BR': 2,'KR': 3,'SA': 4}\n",
    "#countries_mapping = {'AU': 0,'KR': 1,'SA': 2}\n",
    "# classes = ['eye','mouth','nose','ear']\n",
    "# classes = ['eye','mouth']"
   ]
  },
  {
   "cell_type": "code",
   "execution_count": 5,
   "metadata": {
    "colab": {
     "base_uri": "https://localhost:8080/",
     "height": 119
    },
    "colab_type": "code",
    "id": "18S0xrTPCCzh",
    "outputId": "2d3f5d4e-13fb-40e8-cf6d-0d6c3a1cc389"
   },
   "outputs": [
    {
     "name": "stdout",
     "output_type": "stream",
     "text": [
      "https://storage.googleapis.com/quickdraw_dataset/full/binary/face.bin\n",
      "https://storage.googleapis.com/quickdraw_dataset/full/binary/eye.bin\n",
      "https://storage.googleapis.com/quickdraw_dataset/full/binary/mouth.bin\n",
      "https://storage.googleapis.com/quickdraw_dataset/full/binary/nose.bin\n",
      "https://storage.googleapis.com/quickdraw_dataset/full/binary/ear.bin\n"
     ]
    }
   ],
   "source": [
    "import urllib.request\n",
    "def download():\n",
    "  \n",
    "  base = 'https://storage.googleapis.com/quickdraw_dataset/full/binary/'\n",
    "  # base = 'https://storage.googleapis.com/quickdraw_dataset/full/numpy_bitmap/'\n",
    "  for c in classes:\n",
    "    path = base+c+'.bin'\n",
    "    # path = base+c+'.npy'\n",
    "    print(path)\n",
    "    urllib.request.urlretrieve(path, 'data/'+c+'.bin')\n",
    "    # urllib.request.urlretrieve(path, 'data/'+c+'.npy')\n",
    "download()"
   ]
  },
  {
   "cell_type": "code",
   "execution_count": 6,
   "metadata": {
    "colab": {},
    "colab_type": "code",
    "id": "T6lh1XG64b8i"
   },
   "outputs": [],
   "source": [
    "all_files = glob.glob(os.path.join('data', '*.bin'))\n",
    "image_size = 125"
   ]
  },
  {
   "cell_type": "markdown",
   "metadata": {
    "colab_type": "text",
    "id": "syuEC9eRdM0T"
   },
   "source": [
    "## import binary data"
   ]
  },
  {
   "cell_type": "code",
   "execution_count": 9,
   "metadata": {
    "colab": {},
    "colab_type": "code",
    "id": "NFq2mU-OgLEb"
   },
   "outputs": [],
   "source": [
    "import numpy as np\n",
    "import cairocffi as cairo\n",
    "\n",
    "def vector_to_raster(vector_images, side=28, line_diameter=16, padding=16, bg_color=(0,0,0), fg_color=(1,1,1)):\n",
    "    \"\"\"\n",
    "    padding and line_diameter are relative to the original 256x256 image.\n",
    "    \"\"\"\n",
    "    \n",
    "    original_side = 256.\n",
    "    \n",
    "    surface = cairo.ImageSurface(cairo.FORMAT_ARGB32, side, side)\n",
    "    ctx = cairo.Context(surface)\n",
    "    ctx.set_antialias(cairo.ANTIALIAS_BEST)\n",
    "    ctx.set_line_cap(cairo.LINE_CAP_ROUND)\n",
    "    ctx.set_line_join(cairo.LINE_JOIN_ROUND)\n",
    "    ctx.set_line_width(line_diameter)\n",
    "\n",
    "    # scale to match the new size\n",
    "    # add padding at the edges for the line_diameter\n",
    "    # and add additional padding to account for antialiasing\n",
    "    total_padding = padding * 2. + line_diameter\n",
    "    new_scale = float(side) / float(original_side + total_padding)\n",
    "    ctx.scale(new_scale, new_scale)\n",
    "    ctx.translate(total_padding / 2., total_padding / 2.)\n",
    "\n",
    "    raster_images = []\n",
    "    for vector_image in vector_images:\n",
    "        # clear background\n",
    "        ctx.set_source_rgb(*bg_color)\n",
    "        ctx.paint()\n",
    "        bbox = np.hstack(vector_image).max(axis=1)#1\n",
    "        offset = ((original_side, original_side) - bbox) / 2.\n",
    "        offset = offset.reshape(-1,1)\n",
    "        centered = [stroke + offset for stroke in vector_image]\n",
    "\n",
    "        # draw strokes, this is the most cpu-intensive part\n",
    "        ctx.set_source_rgb(*fg_color)        \n",
    "        for xv, yv in centered:\n",
    "            ctx.move_to(xv[0], yv[0])\n",
    "            for x, y in zip(xv, yv):\n",
    "                ctx.line_to(x, y)\n",
    "            ctx.stroke()\n",
    "\n",
    "        data = surface.get_data()\n",
    "        raster_image = np.copy(np.asarray(data)[::4])\n",
    "        raster_images.append(raster_image)\n",
    "    \n",
    "    return raster_images"
   ]
  },
  {
   "cell_type": "code",
   "execution_count": 10,
   "metadata": {
    "colab": {},
    "colab_type": "code",
    "id": "JqIZi9aqDZh5"
   },
   "outputs": [],
   "source": [
    "import struct\n",
    "from struct import unpack\n",
    "\n",
    "\n",
    "def unpack_drawing(file_handle):\n",
    "    key_id, = unpack('Q', file_handle.read(8))\n",
    "    # word, = unpack('s', file_handle.read(2))\n",
    "    countrycode, = unpack('2s', file_handle.read(2))\n",
    "    recognized, = unpack('b', file_handle.read(1))\n",
    "    timestamp, = unpack('I', file_handle.read(4))\n",
    "    n_strokes, = unpack('H', file_handle.read(2))\n",
    "    image = []\n",
    "    # temp = []\n",
    "    for i in range(n_strokes):\n",
    "        n_points, = unpack('H', file_handle.read(2))\n",
    "        fmt = str(n_points) + 'B'\n",
    "        x = list(unpack(fmt, file_handle.read(n_points)))\n",
    "        y = list(unpack(fmt, file_handle.read(n_points)))\n",
    "        # temp += [[x,y]]\n",
    "        image.append((x, y))\n",
    "    #     print(n_strokes)\n",
    "    # temp = vector_to_raster(n_strokes)\n",
    "    \n",
    "    # image.append(temp)\n",
    "        \n",
    "\n",
    "    return {\n",
    "        # 'word': word,\n",
    "        'key_id': key_id,\n",
    "        'countrycode': countrycode,\n",
    "        'recognized': recognized,\n",
    "        # 'timestamp': timestamp,\n",
    "        'image': image\n",
    "    }\n",
    "\n",
    "\n",
    "def unpack_drawings(filename):\n",
    "    with open(filename, 'rb') as f:\n",
    "        while True:\n",
    "            try:\n",
    "                yield unpack_drawing(f)\n",
    "            except struct.error:\n",
    "                break\n",
    "\n"
   ]
  },
  {
   "cell_type": "code",
   "execution_count": 11,
   "metadata": {
    "colab": {},
    "colab_type": "code",
    "id": "VOkk9GEWN-AS"
   },
   "outputs": [],
   "source": [
    "countrycode = []\n",
    "recognized = []\n",
    "word = []\n",
    "image = []\n",
    "# image = np.empty([0,28*28])\n",
    "for i in all_files:\n",
    "    for drawing in unpack_drawings(i):\n",
    "        if (drawing['recognized'] == 1)  :\n",
    "            word += [re.findall(r'[a-z]+',i)[1]]\n",
    "            countrycode += re.findall(r'[A-Z][A-Z]',str(drawing['countrycode']))\n",
    "            image += vector_to_raster([drawing['image']],side = image_size )\n",
    "            #recognized += [drawing['recognized']]\n",
    "        else :\n",
    "            continue\n",
    "      \n",
    "      # word += [re.findall(r'[a-z]+',i)[1]]\n",
    "      # countrycode += re.findall(r'[A-Z][A-Z]',str(drawing['countrycode']))\n",
    "      # recognized += [drawing['recognized']]\n",
    "      # # image += vector_to_raster([drawing['image']])\n",
    "      # # image = np.concatenate((image,vector_to_raster([drawing['image']])),axis=0)\n",
    "\n",
    "     \n"
   ]
  },
  {
   "cell_type": "code",
   "execution_count": 12,
   "metadata": {
    "colab": {
     "base_uri": "https://localhost:8080/",
     "height": 285
    },
    "colab_type": "code",
    "id": "Msik-nTZbEeY",
    "outputId": "a0715a1d-c407-484a-c568-608105789775"
   },
   "outputs": [
    {
     "data": {
      "text/plain": [
       "<matplotlib.image.AxesImage at 0x7f406d31b748>"
      ]
     },
     "execution_count": 12,
     "metadata": {},
     "output_type": "execute_result"
    },
    {
     "data": {
      "image/png": "[encoded data removed]",
      "text/plain": [
       "<Figure size 432x288 with 1 Axes>"
      ]
     },
     "metadata": {
      "needs_background": "light"
     },
     "output_type": "display_data"
    }
   ],
   "source": [
    "%matplotlib inline\n",
    "\n",
    "idx = randint(0, len(image))\n",
    "plt.imshow(np.array(image[idx]).reshape(image_size,image_size), cmap='gist_earth') \n",
    "    # print(class_names[int(y[idx].item())])"
   ]
  },
  {
   "cell_type": "markdown",
   "metadata": {},
   "source": [
    "tmp = []\n",
    "ct = []\n",
    "#countries = ['RU','AU','KR','AU','GB','BR','SE','FI','CZ']\n",
    "#countries = ['US','GB','CA','DE','RU','AU','BR','SE','FI','CZ','IT','KR','SA','PL','FR']\n",
    "countries = ['RU','AU','BR','SE','FI','CZ','IT','KR','SA','PL','FR']\n",
    "countries_mapping = {'RU':0,'AU':1,'BR':2,'SE':3,'FI':4,'CZ':5,'IT':6,'KR':7,'SA':8,'PL':9,'FR':10}\n",
    "\n",
    "'''\n",
    "for c in cls:\n",
    "    for t in countries:\n",
    "        x = np.array(image[0]).reshape(image_size,image_size)\n",
    "        y = np.zeros(x.shape)\n",
    "        count = 0\n",
    "        count_total = 0\n",
    "        for i in range(len(image)):\n",
    "            if word[i] == c and countrycode[i] == t: #count < 1410 and \n",
    "                y += np.array(image[i]).reshape(image_size,image_size)\n",
    "                count+=1\n",
    "        y1 = y / count\n",
    "        ct.append(count)\n",
    "        tmp.append(y1) \n",
    "'''"
   ]
  },
  {
   "cell_type": "code",
   "execution_count": 13,
   "metadata": {},
   "outputs": [],
   "source": [
    "#countries = ['RU','AU','BR','SE','FI','CZ','IT','KR','SA']\n",
    "countries = ['AU','BR','KR','SA']\n",
    "#countries_mapping = {'RU':0,'AU':1,'BR':2,'SE':3,'FI':4,'CZ':5,'IT':6,'KR':7,'SA':8,'PL':9,'FR':10}\n",
    "countries_mapping = {'AU':0,'BR':1,'KR':2, 'SA':3}"
   ]
  },
  {
   "cell_type": "code",
   "execution_count": 14,
   "metadata": {
    "colab": {},
    "colab_type": "code",
    "id": "o2M63oOlcTyy"
   },
   "outputs": [],
   "source": [
    "raw_data = pd.DataFrame()\n",
    "raw_data['word'] = word\n",
    "\n",
    "raw_data['word'] = [class_mapping[x] for x in raw_data['word']]\n",
    "raw_data['countrycode'] = countrycode\n",
    "#raw_data['recognized'] = recognized\n",
    "raw_data['image'] = image\n",
    "\n",
    "# select the lines which countrycode in countries\n",
    "raw_data = raw_data.loc[raw_data['countrycode'].isin(countries)]\n",
    "raw_data['countrycode'] = [countries_mapping[x] for x in raw_data['countrycode']]"
   ]
  },
  {
   "cell_type": "code",
   "execution_count": 15,
   "metadata": {},
   "outputs": [
    {
     "data": {
      "text/plain": [
       "(49591, 3)"
      ]
     },
     "execution_count": 15,
     "metadata": {},
     "output_type": "execute_result"
    }
   ],
   "source": [
    "raw_data.shape"
   ]
  },
  {
   "cell_type": "markdown",
   "metadata": {
    "colab_type": "text",
    "id": "0OvNu50tdZrL"
   },
   "source": [
    "# Model\n"
   ]
  },
  {
   "cell_type": "markdown",
   "metadata": {
    "colab_type": "text",
    "id": "hNkB9HAIlQij"
   },
   "source": [
    "# Predict countries"
   ]
  },
  {
   "cell_type": "code",
   "execution_count": 13,
   "metadata": {
    "colab": {},
    "colab_type": "code",
    "id": "G3mTCbyIeKRc"
   },
   "outputs": [],
   "source": [
    "# Only keep listed countries: AU,RU,BR,TW,HK,JP,KR,SA\n",
    "classes = ['face','eye','mouth','nose','ear']\n",
    "class_mapping = {'face': 0, 'ear': 1,'eye': 2,'mouth': 3,'nose': 4}"
   ]
  },
  {
   "cell_type": "code",
   "execution_count": 79,
   "metadata": {},
   "outputs": [],
   "source": [
    "sub_data = raw_data[raw_data['word'] == 4]"
   ]
  },
  {
   "cell_type": "code",
   "execution_count": 80,
   "metadata": {},
   "outputs": [
    {
     "data": {
      "text/html": [
       "<div>\n",
       "<style scoped>\n",
       "    .dataframe tbody tr th:only-of-type {\n",
       "        vertical-align: middle;\n",
       "    }\n",
       "\n",
       "    .dataframe tbody tr th {\n",
       "        vertical-align: top;\n",
       "    }\n",
       "\n",
       "    .dataframe thead th {\n",
       "        text-align: right;\n",
       "    }\n",
       "</style>\n",
       "<table border=\"1\" class=\"dataframe\">\n",
       "  <thead>\n",
       "    <tr style=\"text-align: right;\">\n",
       "      <th></th>\n",
       "      <th>word</th>\n",
       "      <th>countrycode</th>\n",
       "      <th>image</th>\n",
       "    </tr>\n",
       "  </thead>\n",
       "  <tbody>\n",
       "    <tr>\n",
       "      <td>0</td>\n",
       "      <td>4</td>\n",
       "      <td>0</td>\n",
       "      <td>[0, 0, 0, 0, 0, 0, 0, 0, 0, 0, 0, 0, 0, 0, 0, ...</td>\n",
       "    </tr>\n",
       "    <tr>\n",
       "      <td>1</td>\n",
       "      <td>4</td>\n",
       "      <td>0</td>\n",
       "      <td>[0, 0, 0, 0, 0, 0, 0, 0, 0, 0, 0, 0, 0, 0, 0, ...</td>\n",
       "    </tr>\n",
       "    <tr>\n",
       "      <td>24</td>\n",
       "      <td>4</td>\n",
       "      <td>1</td>\n",
       "      <td>[0, 0, 0, 0, 0, 0, 0, 0, 0, 0, 0, 0, 0, 0, 0, ...</td>\n",
       "    </tr>\n",
       "    <tr>\n",
       "      <td>28</td>\n",
       "      <td>4</td>\n",
       "      <td>1</td>\n",
       "      <td>[0, 0, 0, 0, 0, 0, 0, 0, 0, 0, 0, 0, 0, 0, 0, ...</td>\n",
       "    </tr>\n",
       "    <tr>\n",
       "      <td>29</td>\n",
       "      <td>4</td>\n",
       "      <td>2</td>\n",
       "      <td>[0, 0, 0, 0, 0, 0, 0, 0, 0, 0, 0, 0, 0, 0, 0, ...</td>\n",
       "    </tr>\n",
       "    <tr>\n",
       "      <td>...</td>\n",
       "      <td>...</td>\n",
       "      <td>...</td>\n",
       "      <td>...</td>\n",
       "    </tr>\n",
       "    <tr>\n",
       "      <td>182433</td>\n",
       "      <td>4</td>\n",
       "      <td>3</td>\n",
       "      <td>[0, 0, 0, 0, 0, 0, 0, 0, 0, 0, 0, 0, 0, 0, 0, ...</td>\n",
       "    </tr>\n",
       "    <tr>\n",
       "      <td>182436</td>\n",
       "      <td>4</td>\n",
       "      <td>0</td>\n",
       "      <td>[0, 0, 0, 0, 0, 0, 0, 0, 0, 0, 0, 0, 0, 0, 0, ...</td>\n",
       "    </tr>\n",
       "    <tr>\n",
       "      <td>182448</td>\n",
       "      <td>4</td>\n",
       "      <td>3</td>\n",
       "      <td>[0, 0, 0, 0, 0, 0, 0, 0, 0, 0, 0, 0, 0, 0, 0, ...</td>\n",
       "    </tr>\n",
       "    <tr>\n",
       "      <td>182453</td>\n",
       "      <td>4</td>\n",
       "      <td>2</td>\n",
       "      <td>[0, 0, 0, 0, 0, 0, 0, 0, 0, 0, 0, 0, 0, 0, 0, ...</td>\n",
       "    </tr>\n",
       "    <tr>\n",
       "      <td>182465</td>\n",
       "      <td>4</td>\n",
       "      <td>0</td>\n",
       "      <td>[0, 0, 0, 0, 0, 0, 0, 0, 0, 0, 0, 0, 0, 0, 0, ...</td>\n",
       "    </tr>\n",
       "  </tbody>\n",
       "</table>\n",
       "<p>12995 rows × 3 columns</p>\n",
       "</div>"
      ],
      "text/plain": [
       "        word  countrycode                                              image\n",
       "0          4            0  [0, 0, 0, 0, 0, 0, 0, 0, 0, 0, 0, 0, 0, 0, 0, ...\n",
       "1          4            0  [0, 0, 0, 0, 0, 0, 0, 0, 0, 0, 0, 0, 0, 0, 0, ...\n",
       "24         4            1  [0, 0, 0, 0, 0, 0, 0, 0, 0, 0, 0, 0, 0, 0, 0, ...\n",
       "28         4            1  [0, 0, 0, 0, 0, 0, 0, 0, 0, 0, 0, 0, 0, 0, 0, ...\n",
       "29         4            2  [0, 0, 0, 0, 0, 0, 0, 0, 0, 0, 0, 0, 0, 0, 0, ...\n",
       "...      ...          ...                                                ...\n",
       "182433     4            3  [0, 0, 0, 0, 0, 0, 0, 0, 0, 0, 0, 0, 0, 0, 0, ...\n",
       "182436     4            0  [0, 0, 0, 0, 0, 0, 0, 0, 0, 0, 0, 0, 0, 0, 0, ...\n",
       "182448     4            3  [0, 0, 0, 0, 0, 0, 0, 0, 0, 0, 0, 0, 0, 0, 0, ...\n",
       "182453     4            2  [0, 0, 0, 0, 0, 0, 0, 0, 0, 0, 0, 0, 0, 0, 0, ...\n",
       "182465     4            0  [0, 0, 0, 0, 0, 0, 0, 0, 0, 0, 0, 0, 0, 0, 0, ...\n",
       "\n",
       "[12995 rows x 3 columns]"
      ]
     },
     "execution_count": 80,
     "metadata": {},
     "output_type": "execute_result"
    }
   ],
   "source": [
    "sub_data"
   ]
  },
  {
   "cell_type": "code",
   "execution_count": 81,
   "metadata": {},
   "outputs": [
    {
     "data": {
      "text/plain": [
       "<matplotlib.axes._subplots.AxesSubplot at 0x7f4062ec72b0>"
      ]
     },
     "execution_count": 81,
     "metadata": {},
     "output_type": "execute_result"
    },
    {
     "data": {
      "image/png": "[encoded data removed]",
      "text/plain": [
       "<Figure size 432x288 with 1 Axes>"
      ]
     },
     "metadata": {
      "needs_background": "light"
     },
     "output_type": "display_data"
    }
   ],
   "source": [
    "sub_data['countrycode'].hist(bins=30)"
   ]
  },
  {
   "cell_type": "markdown",
   "metadata": {
    "colab_type": "text",
    "id": "Lo_QYdo3KcLP"
   },
   "source": [
    "### Split data into train and test"
   ]
  },
  {
   "cell_type": "code",
   "execution_count": 82,
   "metadata": {
    "colab": {},
    "colab_type": "code",
    "id": "6mgvEfbXKcLR"
   },
   "outputs": [],
   "source": [
    "# randomize data\n",
    "from sklearn.utils import shuffle\n",
    "# data_rnd = shuffle(raw_data[(raw_data['recognized']==1)][['image','countrycode']])\n",
    "\n",
    "# 你可以在这里调整下是不是选择一个word类别来预测countrycode，现在是有所有的类别\n",
    "\n",
    "\n",
    "data_rnd = shuffle(sub_data[[\"image\",'countrycode']])\n",
    "x = train_remake(data_rnd['image'])\n",
    "y = data_rnd['countrycode']"
   ]
  },
  {
   "cell_type": "code",
   "execution_count": 83,
   "metadata": {
    "colab": {},
    "colab_type": "code",
    "id": "iAMKQYo8KcLU"
   },
   "outputs": [],
   "source": [
    "from sklearn.model_selection import train_test_split\n",
    "x_train,x_test,y_train,y_test = train_test_split(x,y,test_size=0.2, random_state=4552,stratify=y)\n",
    "x_val,x_test,y_val,y_test = train_test_split(x_test,y_test,test_size=0.5, random_state=4552,stratify=y_test)\n",
    "x_train = np.array(x_train)\n",
    "x_val = np.array(x_val)\n",
    "x_test = np.array(x_test)\n",
    "y_train = np.array(y_train)\n",
    "y_val = np.array(y_val)\n",
    "y_test = np.array(y_test)\n",
    "# 没有确定data是不是balanced"
   ]
  },
  {
   "cell_type": "code",
   "execution_count": 84,
   "metadata": {},
   "outputs": [
    {
     "name": "stdout",
     "output_type": "stream",
     "text": [
      "(10396, 15625)\n",
      "(1299, 15625)\n",
      "(1300, 15625)\n",
      "(10396,)\n",
      "(1299,)\n",
      "(1300,)\n"
     ]
    }
   ],
   "source": [
    "print(x_train.shape)\n",
    "print(x_val.shape)\n",
    "print(x_test.shape)\n",
    "print(y_train.shape)\n",
    "print(y_val.shape)\n",
    "print(y_test.shape)"
   ]
  },
  {
   "cell_type": "markdown",
   "metadata": {
    "colab_type": "text",
    "id": "J9sAf2OYKcLW"
   },
   "source": [
    "### Reshape and Normalize"
   ]
  },
  {
   "cell_type": "code",
   "execution_count": 85,
   "metadata": {
    "colab": {},
    "colab_type": "code",
    "id": "0DT7gZAYKcLX"
   },
   "outputs": [],
   "source": [
    "# Reshape and normalize\n",
    "x_train = x_train.reshape(x_train.shape[0], image_size, image_size, 1).astype('float32')\n",
    "x_val = x_val.reshape(x_val.shape[0], image_size, image_size, 1).astype('float32')\n",
    "x_test = x_test.reshape(x_test.shape[0], image_size, image_size, 1).astype('float32')\n",
    "\n",
    "x_train /= 255.0\n",
    "x_val /= 255.0\n",
    "x_test /= 255.0\n",
    "\n",
    "# Convert class vectors to class matrices\n",
    "y_train = keras.utils.to_categorical(y_train, len(countries))\n",
    "y_val = keras.utils.to_categorical(y_val, len(countries))\n",
    "y_test = keras.utils.to_categorical(y_test, len(countries))"
   ]
  },
  {
   "cell_type": "code",
   "execution_count": 86,
   "metadata": {},
   "outputs": [
    {
     "data": {
      "text/plain": [
       "(1299, 125, 125, 1)"
      ]
     },
     "execution_count": 86,
     "metadata": {},
     "output_type": "execute_result"
    }
   ],
   "source": [
    "x_val.shape"
   ]
  },
  {
   "cell_type": "markdown",
   "metadata": {
    "colab_type": "text",
    "id": "9zoUB34yKcLd"
   },
   "source": [
    "### Build model"
   ]
  },
  {
   "cell_type": "code",
   "execution_count": 91,
   "metadata": {
    "colab": {
     "base_uri": "https://localhost:8080/",
     "height": 459
    },
    "colab_type": "code",
    "id": "eK792UL1KcLd",
    "outputId": "7fcf9532-5795-4cef-95e4-6a8e44606ab1"
   },
   "outputs": [
    {
     "name": "stdout",
     "output_type": "stream",
     "text": [
      "Model: \"sequential_8\"\n",
      "_________________________________________________________________\n",
      "Layer (type)                 Output Shape              Param #   \n",
      "=================================================================\n",
      "conv2d_48 (Conv2D)           (None, 125, 125, 64)      640       \n",
      "_________________________________________________________________\n",
      "max_pooling2d_48 (MaxPooling (None, 62, 62, 64)        0         \n",
      "_________________________________________________________________\n",
      "conv2d_49 (Conv2D)           (None, 62, 62, 64)        36928     \n",
      "_________________________________________________________________\n",
      "max_pooling2d_49 (MaxPooling (None, 31, 31, 64)        0         \n",
      "_________________________________________________________________\n",
      "conv2d_50 (Conv2D)           (None, 31, 31, 128)       73856     \n",
      "_________________________________________________________________\n",
      "max_pooling2d_50 (MaxPooling (None, 15, 15, 128)       0         \n",
      "_________________________________________________________________\n",
      "conv2d_51 (Conv2D)           (None, 15, 15, 128)       147584    \n",
      "_________________________________________________________________\n",
      "max_pooling2d_51 (MaxPooling (None, 7, 7, 128)         0         \n",
      "_________________________________________________________________\n",
      "conv2d_52 (Conv2D)           (None, 7, 7, 64)          73792     \n",
      "_________________________________________________________________\n",
      "max_pooling2d_52 (MaxPooling (None, 3, 3, 64)          0         \n",
      "_________________________________________________________________\n",
      "conv2d_53 (Conv2D)           (None, 3, 3, 64)          36928     \n",
      "_________________________________________________________________\n",
      "max_pooling2d_53 (MaxPooling (None, 1, 1, 64)          0         \n",
      "_________________________________________________________________\n",
      "flatten_8 (Flatten)          (None, 64)                0         \n",
      "_________________________________________________________________\n",
      "dense_16 (Dense)             (None, 64)                4160      \n",
      "_________________________________________________________________\n",
      "dropout_5 (Dropout)          (None, 64)                0         \n",
      "_________________________________________________________________\n",
      "dense_17 (Dense)             (None, 4)                 260       \n",
      "=================================================================\n",
      "Total params: 374,148\n",
      "Trainable params: 374,148\n",
      "Non-trainable params: 0\n",
      "_________________________________________________________________\n"
     ]
    }
   ],
   "source": [
    "# Define model\n",
    "model2 = keras.Sequential()\n",
    "model2.add(layers.Convolution2D(64, (3, 3),\n",
    "                        padding='same',\n",
    "                        input_shape=x_train.shape[1:], activation='relu'))\n",
    "model2.add(layers.MaxPooling2D(pool_size=(2, 2)))\n",
    "model2.add(layers.Convolution2D(64, (3, 3), padding='same', activation= 'relu'))\n",
    "model2.add(layers.MaxPooling2D(pool_size=(2, 2)))\n",
    "model2.add(layers.Convolution2D(128, (3, 3), padding='same', activation= 'relu'))\n",
    "model2.add(layers.MaxPooling2D(pool_size=(2, 2)))\n",
    "model2.add(layers.Convolution2D(128, (3, 3), padding='same', activation= 'relu'))\n",
    "model2.add(layers.MaxPooling2D(pool_size=(2, 2)))\n",
    "model2.add(layers.Convolution2D(64, (3, 3), padding='same', activation= 'relu'))\n",
    "model2.add(layers.MaxPooling2D(pool_size =(2, 2)))\n",
    "model2.add(layers.Convolution2D(64, (3, 3), padding='same', activation= 'relu'))\n",
    "model2.add(layers.MaxPooling2D(pool_size =(2, 2)))\n",
    "#model2.add(layers.Convolution2D(128, (3, 3), padding='same', activation= 'relu'))\n",
    "#model2.add(layers.MaxPooling2D(pool_size =(2, 2)))\n",
    "#model2.add(layers.Convolution2D(128, (3, 3), padding='same', activation= 'relu'))\n",
    "#model2.add(layers.MaxPooling2D(pool_size =(2, 2)))\n",
    "model2.add(layers.Flatten())\n",
    "model2.add(layers.Dense(64, activation='relu'))\n",
    "model2.add(keras.layers.Dropout(0.5))\n",
    "model2.add(layers.Dense(len(countries), activation='softmax')) \n",
    "model2.summary()"
   ]
  },
  {
   "cell_type": "markdown",
   "metadata": {
    "colab_type": "text",
    "id": "ao9NYW5kKyCM"
   },
   "source": [
    "### Train Model"
   ]
  },
  {
   "cell_type": "code",
   "execution_count": 92,
   "metadata": {},
   "outputs": [
    {
     "name": "stdout",
     "output_type": "stream",
     "text": [
      "Train on 10396 samples, validate on 1299 samples\n",
      "Epoch 1/20\n",
      "10304/10396 [============================>.] - ETA: 0s - loss: 1.3575 - accuracy: 0.3222\n",
      "Epoch 00001: val_accuracy improved from -inf to 0.36336, saving model to country_model/model_4.01-0.363.h5\n",
      "10396/10396 [==============================] - 6s 583us/sample - loss: 1.3575 - accuracy: 0.3221 - val_loss: 1.3182 - val_accuracy: 0.3634\n",
      "Epoch 2/20\n",
      "10304/10396 [============================>.] - ETA: 0s - loss: 1.3166 - accuracy: 0.3589\n",
      "Epoch 00002: val_accuracy improved from 0.36336 to 0.39107, saving model to country_model/model_4.02-0.391.h5\n",
      "10396/10396 [==============================] - 5s 456us/sample - loss: 1.3162 - accuracy: 0.3596 - val_loss: 1.2899 - val_accuracy: 0.3911\n",
      "Epoch 3/20\n",
      "10304/10396 [============================>.] - ETA: 0s - loss: 1.2935 - accuracy: 0.3805\n",
      "Epoch 00003: val_accuracy improved from 0.39107 to 0.39184, saving model to country_model/model_4.03-0.392.h5\n",
      "10396/10396 [==============================] - 5s 456us/sample - loss: 1.2935 - accuracy: 0.3801 - val_loss: 1.2816 - val_accuracy: 0.3918\n",
      "Epoch 4/20\n",
      "10304/10396 [============================>.] - ETA: 0s - loss: 1.2783 - accuracy: 0.3904\n",
      "Epoch 00004: val_accuracy did not improve from 0.39184\n",
      "10396/10396 [==============================] - 5s 452us/sample - loss: 1.2782 - accuracy: 0.3904 - val_loss: 1.2762 - val_accuracy: 0.3888\n",
      "Epoch 5/20\n",
      "10304/10396 [============================>.] - ETA: 0s - loss: 1.2688 - accuracy: 0.4017\n",
      "Epoch 00005: val_accuracy improved from 0.39184 to 0.40416, saving model to country_model/model_4.05-0.404.h5\n",
      "10396/10396 [==============================] - 5s 456us/sample - loss: 1.2685 - accuracy: 0.4014 - val_loss: 1.2685 - val_accuracy: 0.4042\n",
      "Epoch 6/20\n",
      "10304/10396 [============================>.] - ETA: 0s - loss: 1.2582 - accuracy: 0.4140\n",
      "Epoch 00006: val_accuracy improved from 0.40416 to 0.40570, saving model to country_model/model_4.06-0.406.h5\n",
      "10396/10396 [==============================] - 5s 456us/sample - loss: 1.2582 - accuracy: 0.4141 - val_loss: 1.2674 - val_accuracy: 0.4057\n",
      "Epoch 7/20\n",
      "10304/10396 [============================>.] - ETA: 0s - loss: 1.2388 - accuracy: 0.4253\n",
      "Epoch 00007: val_accuracy did not improve from 0.40570\n",
      "10396/10396 [==============================] - 5s 453us/sample - loss: 1.2397 - accuracy: 0.4253 - val_loss: 1.2638 - val_accuracy: 0.4034\n",
      "Epoch 8/20\n",
      "10304/10396 [============================>.] - ETA: 0s - loss: 1.2259 - accuracy: 0.4348\n",
      "Epoch 00008: val_accuracy improved from 0.40570 to 0.41109, saving model to country_model/model_4.08-0.411.h5\n",
      "10396/10396 [==============================] - 5s 456us/sample - loss: 1.2262 - accuracy: 0.4350 - val_loss: 1.2699 - val_accuracy: 0.4111\n",
      "Epoch 9/20\n",
      "10304/10396 [============================>.] - ETA: 0s - loss: 1.2035 - accuracy: 0.4477\n",
      "Epoch 00009: val_accuracy did not improve from 0.41109\n",
      "10396/10396 [==============================] - 5s 452us/sample - loss: 1.2045 - accuracy: 0.4469 - val_loss: 1.2759 - val_accuracy: 0.3903\n",
      "Epoch 10/20\n",
      "10304/10396 [============================>.] - ETA: 0s - loss: 1.1889 - accuracy: 0.4467\n",
      "Epoch 00010: val_accuracy did not improve from 0.41109\n",
      "10396/10396 [==============================] - 5s 452us/sample - loss: 1.1897 - accuracy: 0.4462 - val_loss: 1.2704 - val_accuracy: 0.3972\n",
      "Epoch 11/20\n",
      "10304/10396 [============================>.] - ETA: 0s - loss: 1.1619 - accuracy: 0.4711\n",
      "Epoch 00011: val_accuracy did not improve from 0.41109\n",
      "10396/10396 [==============================] - 5s 452us/sample - loss: 1.1614 - accuracy: 0.4719 - val_loss: 1.2938 - val_accuracy: 0.3995\n",
      "Epoch 12/20\n",
      "10304/10396 [============================>.] - ETA: 0s - loss: 1.1218 - accuracy: 0.4937\n",
      "Epoch 00012: val_accuracy did not improve from 0.41109\n",
      "10396/10396 [==============================] - 5s 454us/sample - loss: 1.1244 - accuracy: 0.4923 - val_loss: 1.3440 - val_accuracy: 0.3780\n",
      "Epoch 13/20\n",
      "10304/10396 [============================>.] - ETA: 0s - loss: 1.0964 - accuracy: 0.5082\n",
      "Epoch 00013: val_accuracy did not improve from 0.41109\n",
      "10396/10396 [==============================] - 5s 453us/sample - loss: 1.0961 - accuracy: 0.5085 - val_loss: 1.3122 - val_accuracy: 0.3780\n",
      "Epoch 14/20\n",
      "10304/10396 [============================>.] - ETA: 0s - loss: 1.0418 - accuracy: 0.5405\n",
      "Epoch 00014: val_accuracy did not improve from 0.41109\n",
      "10396/10396 [==============================] - 5s 452us/sample - loss: 1.0420 - accuracy: 0.5405 - val_loss: 1.3736 - val_accuracy: 0.3764\n",
      "Epoch 15/20\n",
      "10304/10396 [============================>.] - ETA: 0s - loss: 0.9980 - accuracy: 0.5603\n",
      "Epoch 00015: val_accuracy did not improve from 0.41109\n",
      "10396/10396 [==============================] - 5s 452us/sample - loss: 0.9985 - accuracy: 0.5606 - val_loss: 1.4874 - val_accuracy: 0.3687\n",
      "Epoch 16/20\n",
      "10304/10396 [============================>.] - ETA: 0s - loss: 0.9447 - accuracy: 0.5893\n",
      "Epoch 00016: val_accuracy did not improve from 0.41109\n",
      "10396/10396 [==============================] - 5s 452us/sample - loss: 0.9460 - accuracy: 0.5883 - val_loss: 1.4490 - val_accuracy: 0.3718\n",
      "Epoch 17/20\n",
      "10304/10396 [============================>.] - ETA: 0s - loss: 0.8871 - accuracy: 0.6112\n",
      "Epoch 00017: val_accuracy did not improve from 0.41109\n",
      "10396/10396 [==============================] - 5s 452us/sample - loss: 0.8872 - accuracy: 0.6112 - val_loss: 1.5167 - val_accuracy: 0.3865\n",
      "Epoch 18/20\n",
      "10304/10396 [============================>.] - ETA: 0s - loss: 0.8357 - accuracy: 0.6333\n",
      "Epoch 00018: val_accuracy did not improve from 0.41109\n",
      "10396/10396 [==============================] - 5s 454us/sample - loss: 0.8363 - accuracy: 0.6325 - val_loss: 1.6667 - val_accuracy: 0.3641\n",
      "Epoch 19/20\n",
      "10304/10396 [============================>.] - ETA: 0s - loss: 0.7844 - accuracy: 0.6548\n",
      "Epoch 00019: val_accuracy did not improve from 0.41109\n",
      "10396/10396 [==============================] - 5s 454us/sample - loss: 0.7849 - accuracy: 0.6546 - val_loss: 1.8363 - val_accuracy: 0.3826\n",
      "Epoch 20/20\n",
      "10304/10396 [============================>.] - ETA: 0s - loss: 0.7355 - accuracy: 0.6819\n",
      "Epoch 00020: val_accuracy did not improve from 0.41109\n",
      "10396/10396 [==============================] - 5s 453us/sample - loss: 0.7360 - accuracy: 0.6822 - val_loss: 1.9530 - val_accuracy: 0.3934\n"
     ]
    },
    {
     "data": {
      "text/plain": [
       "<tensorflow.python.keras.callbacks.History at 0x7f3f20495438>"
      ]
     },
     "execution_count": 92,
     "metadata": {},
     "output_type": "execute_result"
    }
   ],
   "source": [
    "from keras.callbacks import ModelCheckpoint, ReduceLROnPlateau\n",
    "\n",
    "filepath = \"country_model/model_4.{epoch:02d}-{val_accuracy:.3f}.h5\"\n",
    "checkpoint = ModelCheckpoint(filepath, monitor='val_accuracy', verbose=1, \n",
    "                                                save_best_only=True, mode='max')\n",
    "callbacks_list = [checkpoint]\n",
    "\n",
    "model2.compile(loss='categorical_crossentropy',\n",
    "              optimizer=tf.keras.optimizers.Adam(lr=0.001),\n",
    "              metrics=['accuracy'])\n",
    "\n",
    "BATCH_SIZE = 64\n",
    "model2.fit(x = x_train, y = y_train, \\\n",
    "          validation_data=(x_val, y_val), batch_size = BATCH_SIZE, verbose=1, epochs=10,callbacks = callbacks_list)"
   ]
  },
  {
   "cell_type": "markdown",
   "metadata": {
    "colab_type": "text",
    "id": "qF3RCEDpKyCQ"
   },
   "source": [
    "### Testing"
   ]
  },
  {
   "cell_type": "code",
   "execution_count": 93,
   "metadata": {
    "colab": {
     "base_uri": "https://localhost:8080/",
     "height": 34
    },
    "colab_type": "code",
    "id": "EDyi7g9PKyCQ",
    "outputId": "0a405b4e-8943-4861-a44e-ddda0715a032"
   },
   "outputs": [
    {
     "name": "stdout",
     "output_type": "stream",
     "text": [
      "accuracy: 0.3692\n"
     ]
    }
   ],
   "source": [
    "loss,accuracy = model2.evaluate(x_test,y_test, verbose=0)\n",
    "print(\"accuracy: {:.4f}\".format(accuracy))"
   ]
  },
  {
   "cell_type": "code",
   "execution_count": 94,
   "metadata": {},
   "outputs": [],
   "source": [
    "# serialize model to JSON\n",
    "model_json = model2.to_json()\n",
    "with open(\"country_model/model_nose.json\", \"w\") as json_file:\n",
    "    json_file.write(model_json)\n",
    "model2.load_weights('country_model/model_4.08-0.411.h5') \n",
    "model2.save_weights(\"country_model/model_nose.h5\")"
   ]
  },
  {
   "cell_type": "code",
   "execution_count": 95,
   "metadata": {},
   "outputs": [
    {
     "data": {
      "text/html": [
       "country_model/./<br>\n",
       "&nbsp;&nbsp;<a href='country_model/./model.04-0.394.h5' target='_blank'>model.04-0.394.h5</a><br>\n",
       "&nbsp;&nbsp;<a href='country_model/./model_2.03-0.352.h5' target='_blank'>model_2.03-0.352.h5</a><br>\n",
       "&nbsp;&nbsp;<a href='country_model/./model_2.08-0.395.h5' target='_blank'>model_2.08-0.395.h5</a><br>\n",
       "&nbsp;&nbsp;<a href='country_model/./model_ear.h5' target='_blank'>model_ear.h5</a><br>\n",
       "&nbsp;&nbsp;<a href='country_model/./model_eye.h5' target='_blank'>model_eye.h5</a><br>\n",
       "&nbsp;&nbsp;<a href='country_model/./model.04-0.437.h5' target='_blank'>model.04-0.437.h5</a><br>\n",
       "&nbsp;&nbsp;<a href='country_model/./model.02-0.351.h5' target='_blank'>model.02-0.351.h5</a><br>\n",
       "&nbsp;&nbsp;<a href='country_model/./model_4.07-0.402.h5' target='_blank'>model_4.07-0.402.h5</a><br>\n",
       "&nbsp;&nbsp;<a href='country_model/./model.05-0.435.h5' target='_blank'>model.05-0.435.h5</a><br>\n",
       "&nbsp;&nbsp;<a href='country_model/./model_2.05-0.388.h5' target='_blank'>model_2.05-0.388.h5</a><br>\n",
       "&nbsp;&nbsp;<a href='country_model/./model_4.02-0.391.h5' target='_blank'>model_4.02-0.391.h5</a><br>\n",
       "&nbsp;&nbsp;<a href='country_model/./model_4.06-0.406.h5' target='_blank'>model_4.06-0.406.h5</a><br>\n",
       "&nbsp;&nbsp;<a href='country_model/./model_1.06-0.413.h5' target='_blank'>model_1.06-0.413.h5</a><br>\n",
       "&nbsp;&nbsp;<a href='country_model/./model_3.07-0.461.h5' target='_blank'>model_3.07-0.461.h5</a><br>\n",
       "&nbsp;&nbsp;<a href='country_model/./model_4.01-0.385.h5' target='_blank'>model_4.01-0.385.h5</a><br>\n",
       "&nbsp;&nbsp;<a href='country_model/./model.08-0.460.h5' target='_blank'>model.08-0.460.h5</a><br>\n",
       "&nbsp;&nbsp;<a href='country_model/./model_2.04-0.369.h5' target='_blank'>model_2.04-0.369.h5</a><br>\n",
       "&nbsp;&nbsp;<a href='country_model/./model_3.04-0.434.h5' target='_blank'>model_3.04-0.434.h5</a><br>\n",
       "&nbsp;&nbsp;<a href='country_model/./model_2.09-0.410.h5' target='_blank'>model_2.09-0.410.h5</a><br>\n",
       "&nbsp;&nbsp;<a href='country_model/./model_3.02-0.412.h5' target='_blank'>model_3.02-0.412.h5</a><br>\n",
       "&nbsp;&nbsp;<a href='country_model/./model_2.02-0.335.h5' target='_blank'>model_2.02-0.335.h5</a><br>\n",
       "&nbsp;&nbsp;<a href='country_model/./model_1.05-0.407.h5' target='_blank'>model_1.05-0.407.h5</a><br>\n",
       "&nbsp;&nbsp;<a href='country_model/./model_4.01-0.362.h5' target='_blank'>model_4.01-0.362.h5</a><br>\n",
       "&nbsp;&nbsp;<a href='country_model/./model_mouth.h5' target='_blank'>model_mouth.h5</a><br>\n",
       "&nbsp;&nbsp;<a href='country_model/./model_4.04-0.399.h5' target='_blank'>model_4.04-0.399.h5</a><br>\n",
       "&nbsp;&nbsp;<a href='country_model/./model_1.02-0.361.h5' target='_blank'>model_1.02-0.361.h5</a><br>\n",
       "&nbsp;&nbsp;<a href='country_model/./model_mouth.json' target='_blank'>model_mouth.json</a><br>\n",
       "&nbsp;&nbsp;<a href='country_model/./model_nose.json' target='_blank'>model_nose.json</a><br>\n",
       "&nbsp;&nbsp;<a href='country_model/./model_1.08-0.416.h5' target='_blank'>model_1.08-0.416.h5</a><br>\n",
       "&nbsp;&nbsp;<a href='country_model/./model.05-0.443.h5' target='_blank'>model.05-0.443.h5</a><br>\n",
       "&nbsp;&nbsp;<a href='country_model/./model.03-0.384.h5' target='_blank'>model.03-0.384.h5</a><br>\n",
       "&nbsp;&nbsp;<a href='country_model/./model_nose.h5' target='_blank'>model_nose.h5</a><br>\n",
       "&nbsp;&nbsp;<a href='country_model/./model.02-0.408.h5' target='_blank'>model.02-0.408.h5</a><br>\n",
       "&nbsp;&nbsp;<a href='country_model/./model_3.01-0.383.h5' target='_blank'>model_3.01-0.383.h5</a><br>\n",
       "&nbsp;&nbsp;<a href='country_model/./model_1.03-0.396.h5' target='_blank'>model_1.03-0.396.h5</a><br>\n",
       "&nbsp;&nbsp;<a href='country_model/./model_eye.json' target='_blank'>model_eye.json</a><br>\n",
       "&nbsp;&nbsp;<a href='country_model/./model_4.01-0.363.h5' target='_blank'>model_4.01-0.363.h5</a><br>\n",
       "&nbsp;&nbsp;<a href='country_model/./model_4.03-0.394.h5' target='_blank'>model_4.03-0.394.h5</a><br>\n",
       "&nbsp;&nbsp;<a href='country_model/./model_4.02-0.393.h5' target='_blank'>model_4.02-0.393.h5</a><br>\n",
       "&nbsp;&nbsp;<a href='country_model/./model_face.json' target='_blank'>model_face.json</a><br>\n",
       "&nbsp;&nbsp;<a href='country_model/./model.07-0.440.h5' target='_blank'>model.07-0.440.h5</a><br>\n",
       "&nbsp;&nbsp;<a href='country_model/./model_4.03-0.392.h5' target='_blank'>model_4.03-0.392.h5</a><br>\n",
       "&nbsp;&nbsp;<a href='country_model/./model_4.05-0.404.h5' target='_blank'>model_4.05-0.404.h5</a><br>\n",
       "&nbsp;&nbsp;<a href='country_model/./model_3.05-0.445.h5' target='_blank'>model_3.05-0.445.h5</a><br>\n",
       "&nbsp;&nbsp;<a href='country_model/./model.01-0.311.h5' target='_blank'>model.01-0.311.h5</a><br>\n",
       "&nbsp;&nbsp;<a href='country_model/./model_2.01-0.326.h5' target='_blank'>model_2.01-0.326.h5</a><br>\n",
       "&nbsp;&nbsp;<a href='country_model/./model_ear.json' target='_blank'>model_ear.json</a><br>\n",
       "&nbsp;&nbsp;<a href='country_model/./model_4.08-0.411.h5' target='_blank'>model_4.08-0.411.h5</a><br>\n",
       "&nbsp;&nbsp;<a href='country_model/./model_1.01-0.343.h5' target='_blank'>model_1.01-0.343.h5</a><br>\n",
       "&nbsp;&nbsp;<a href='country_model/./model.03-0.429.h5' target='_blank'>model.03-0.429.h5</a><br>\n",
       "&nbsp;&nbsp;<a href='country_model/./model_face.h5' target='_blank'>model_face.h5</a><br>\n",
       "&nbsp;&nbsp;<a href='country_model/./model_3.03-0.424.h5' target='_blank'>model_3.03-0.424.h5</a><br>"
      ],
      "text/plain": [
       "country_model/./\n",
       "  model.04-0.394.h5\n",
       "  model_2.03-0.352.h5\n",
       "  model_2.08-0.395.h5\n",
       "  model_ear.h5\n",
       "  model_eye.h5\n",
       "  model.04-0.437.h5\n",
       "  model.02-0.351.h5\n",
       "  model_4.07-0.402.h5\n",
       "  model.05-0.435.h5\n",
       "  model_2.05-0.388.h5\n",
       "  model_4.02-0.391.h5\n",
       "  model_4.06-0.406.h5\n",
       "  model_1.06-0.413.h5\n",
       "  model_3.07-0.461.h5\n",
       "  model_4.01-0.385.h5\n",
       "  model.08-0.460.h5\n",
       "  model_2.04-0.369.h5\n",
       "  model_3.04-0.434.h5\n",
       "  model_2.09-0.410.h5\n",
       "  model_3.02-0.412.h5\n",
       "  model_2.02-0.335.h5\n",
       "  model_1.05-0.407.h5\n",
       "  model_4.01-0.362.h5\n",
       "  model_mouth.h5\n",
       "  model_4.04-0.399.h5\n",
       "  model_1.02-0.361.h5\n",
       "  model_mouth.json\n",
       "  model_nose.json\n",
       "  model_1.08-0.416.h5\n",
       "  model.05-0.443.h5\n",
       "  model.03-0.384.h5\n",
       "  model_nose.h5\n",
       "  model.02-0.408.h5\n",
       "  model_3.01-0.383.h5\n",
       "  model_1.03-0.396.h5\n",
       "  model_eye.json\n",
       "  model_4.01-0.363.h5\n",
       "  model_4.03-0.394.h5\n",
       "  model_4.02-0.393.h5\n",
       "  model_face.json\n",
       "  model.07-0.440.h5\n",
       "  model_4.03-0.392.h5\n",
       "  model_4.05-0.404.h5\n",
       "  model_3.05-0.445.h5\n",
       "  model.01-0.311.h5\n",
       "  model_2.01-0.326.h5\n",
       "  model_ear.json\n",
       "  model_4.08-0.411.h5\n",
       "  model_1.01-0.343.h5\n",
       "  model.03-0.429.h5\n",
       "  model_face.h5\n",
       "  model_3.03-0.424.h5"
      ]
     },
     "execution_count": 95,
     "metadata": {},
     "output_type": "execute_result"
    }
   ],
   "source": [
    "from IPython.display import FileLink, FileLinks\n",
    "FileLinks('country_model/.')"
   ]
  },
  {
   "cell_type": "code",
   "execution_count": null,
   "metadata": {},
   "outputs": [],
   "source": []
  }
 ],
 "metadata": {
  "colab": {
   "collapsed_sections": [],
   "machine_shape": "hm",
   "name": "6893 Project.ipynb",
   "provenance": [],
   "toc_visible": true
  },
  "kernelspec": {
   "display_name": "Python 3",
   "language": "python",
   "name": "python3"
  },
  "language_info": {
   "codemirror_mode": {
    "name": "ipython",
    "version": 3
   },
   "file_extension": ".py",
   "mimetype": "text/x-python",
   "name": "python",
   "nbconvert_exporter": "python",
   "pygments_lexer": "ipython3",
   "version": "3.6.9"
  }
 },
 "nbformat": 4,
 "nbformat_minor": 1
}
